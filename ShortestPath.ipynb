{
  "cells": [
    {
      "cell_type": "markdown",
      "metadata": {
        "id": "view-in-github",
        "colab_type": "text"
      },
      "source": [
        "<a href=\"https://colab.research.google.com/github/dele22922/tarea3_feat_eng/blob/main/ShortestPath.ipynb\" target=\"_parent\"><img src=\"https://colab.research.google.com/assets/colab-badge.svg\" alt=\"Open In Colab\"/></a>"
      ]
    },
    {
      "cell_type": "markdown",
      "id": "0a0ba01a",
      "metadata": {
        "id": "0a0ba01a"
      },
      "source": [
        "## Modelo de la Ruta Más Corta\n",
        "\n",
        "### Calcula la ruta mas corta entre 2 nodos de una red minimizando el peso de los arcos"
      ]
    },
    {
      "cell_type": "code",
      "execution_count": 1,
      "id": "d2df0ea6",
      "metadata": {
        "id": "d2df0ea6"
      },
      "outputs": [],
      "source": [
        "import networkx as nx\n",
        "import pandas as pd"
      ]
    },
    {
      "cell_type": "code",
      "execution_count": 3,
      "id": "97730942",
      "metadata": {
        "id": "97730942"
      },
      "outputs": [],
      "source": [
        "## Los datos pueden estar en forma de una tabla que contiene los arcos, indicando el nodo de inicio, el nodo final\n",
        "## y la distancia entre ambos.  Vamos a usar un ejemplo de distancias entre ciudades de EE.UU.\n",
        "\n",
        "#directorio = 'c:/users/jamed/downloads/'\n",
        "#dist = pd.read_excel(directorio + \"roadtrip.xlsx\")\n",
        "dist = pd.read_excel(\"roadtrip.xlsx\")"
      ]
    },
    {
      "cell_type": "code",
      "execution_count": null,
      "id": "b8adc3de",
      "metadata": {
        "id": "b8adc3de",
        "outputId": "cc5fa972-51cc-45c2-d579-e9cf2b7c3688"
      },
      "outputs": [
        {
          "data": {
            "text/html": [
              "<div>\n",
              "<style scoped>\n",
              "    .dataframe tbody tr th:only-of-type {\n",
              "        vertical-align: middle;\n",
              "    }\n",
              "\n",
              "    .dataframe tbody tr th {\n",
              "        vertical-align: top;\n",
              "    }\n",
              "\n",
              "    .dataframe thead th {\n",
              "        text-align: right;\n",
              "    }\n",
              "</style>\n",
              "<table border=\"1\" class=\"dataframe\">\n",
              "  <thead>\n",
              "    <tr style=\"text-align: right;\">\n",
              "      <th></th>\n",
              "      <th>source</th>\n",
              "      <th>destination</th>\n",
              "      <th>distance</th>\n",
              "    </tr>\n",
              "  </thead>\n",
              "  <tbody>\n",
              "    <tr>\n",
              "      <th>0</th>\n",
              "      <td>Chapel Hill</td>\n",
              "      <td>Nashville</td>\n",
              "      <td>513</td>\n",
              "    </tr>\n",
              "    <tr>\n",
              "      <th>1</th>\n",
              "      <td>Chapel Hill</td>\n",
              "      <td>Chicago</td>\n",
              "      <td>784</td>\n",
              "    </tr>\n",
              "    <tr>\n",
              "      <th>2</th>\n",
              "      <td>Chapel Hill</td>\n",
              "      <td>Dallas</td>\n",
              "      <td>1160</td>\n",
              "    </tr>\n",
              "    <tr>\n",
              "      <th>3</th>\n",
              "      <td>Las Vegas</td>\n",
              "      <td>San Francisco</td>\n",
              "      <td>574</td>\n",
              "    </tr>\n",
              "    <tr>\n",
              "      <th>4</th>\n",
              "      <td>Dallas</td>\n",
              "      <td>Phoenix</td>\n",
              "      <td>1065</td>\n",
              "    </tr>\n",
              "  </tbody>\n",
              "</table>\n",
              "</div>"
            ],
            "text/plain": [
              "        source    destination  distance\n",
              "0  Chapel Hill      Nashville       513\n",
              "1  Chapel Hill        Chicago       784\n",
              "2  Chapel Hill         Dallas      1160\n",
              "3    Las Vegas  San Francisco       574\n",
              "4       Dallas        Phoenix      1065"
            ]
          },
          "execution_count": 3,
          "metadata": {},
          "output_type": "execute_result"
        }
      ],
      "source": [
        "dist.head()"
      ]
    },
    {
      "cell_type": "code",
      "execution_count": 4,
      "id": "d5e10e44",
      "metadata": {
        "id": "d5e10e44"
      },
      "outputs": [],
      "source": [
        "grafo = nx.Graph()"
      ]
    },
    {
      "cell_type": "code",
      "execution_count": 5,
      "id": "afa1b95d",
      "metadata": {
        "id": "afa1b95d"
      },
      "outputs": [],
      "source": [
        "filas, col = dist.shape"
      ]
    },
    {
      "cell_type": "code",
      "source": [
        "filas"
      ],
      "metadata": {
        "colab": {
          "base_uri": "https://localhost:8080/"
        },
        "id": "UgGSAhtpkoo-",
        "outputId": "e8d34c00-984d-46f7-bf44-b838cb382b0e"
      },
      "id": "UgGSAhtpkoo-",
      "execution_count": 6,
      "outputs": [
        {
          "output_type": "execute_result",
          "data": {
            "text/plain": [
              "14"
            ]
          },
          "metadata": {},
          "execution_count": 6
        }
      ]
    },
    {
      "cell_type": "code",
      "source": [
        "col"
      ],
      "metadata": {
        "colab": {
          "base_uri": "https://localhost:8080/"
        },
        "id": "WRJasrjOkqoQ",
        "outputId": "cafda173-be9e-4873-a3b2-25464ab60e8e"
      },
      "id": "WRJasrjOkqoQ",
      "execution_count": 8,
      "outputs": [
        {
          "output_type": "execute_result",
          "data": {
            "text/plain": [
              "3"
            ]
          },
          "metadata": {},
          "execution_count": 8
        }
      ]
    },
    {
      "cell_type": "code",
      "execution_count": 9,
      "id": "d3ae7e05",
      "metadata": {
        "id": "d3ae7e05"
      },
      "outputs": [],
      "source": [
        "for fila in range(filas):\n",
        "    grafo.add_edge(dist['source'][fila], dist['destination'][fila], weight= dist['distance'][fila])"
      ]
    },
    {
      "cell_type": "code",
      "execution_count": 12,
      "id": "80d061f0",
      "metadata": {
        "colab": {
          "base_uri": "https://localhost:8080/",
          "height": 406
        },
        "id": "80d061f0",
        "outputId": "711d342c-6aba-4ff5-9f6e-749cc02ffc6b"
      },
      "outputs": [
        {
          "output_type": "display_data",
          "data": {
            "text/plain": [
              "<Figure size 640x480 with 1 Axes>"
            ],
            "image/png": "[encoded data removed]"
          },
          "metadata": {}
        }
      ],
      "source": [
        "nx.draw_networkx(grafo, with_labels=True)"
      ]
    },
    {
      "cell_type": "code",
      "execution_count": 13,
      "id": "9d7c1d3d",
      "metadata": {
        "colab": {
          "base_uri": "https://localhost:8080/"
        },
        "id": "9d7c1d3d",
        "outputId": "23c799b9-1867-4460-853d-1659d18af56d"
      },
      "outputs": [
        {
          "output_type": "stream",
          "name": "stdout",
          "text": [
            "['Nashville', 'Denver', 'Phoenix', 'Los Angeles', 'San Francisco']\n",
            "2749\n"
          ]
        }
      ],
      "source": [
        "inicio = 'Nashville'\n",
        "fin = 'San Francisco'\n",
        "print(nx.shortest_path(grafo,inicio, fin, weight='weight'))\n",
        "print(nx.shortest_path_length(grafo,inicio,fin,weight='weight'))"
      ]
    },
    {
      "cell_type": "code",
      "execution_count": 14,
      "id": "436ac077",
      "metadata": {
        "colab": {
          "base_uri": "https://localhost:8080/"
        },
        "id": "436ac077",
        "outputId": "a5b3b6d3-e6fd-4896-c8f1-73f6e60fbbc7"
      },
      "outputs": [
        {
          "output_type": "execute_result",
          "data": {
            "text/plain": [
              "EdgeView([('Chapel Hill', 'Nashville'), ('Chapel Hill', 'Chicago'), ('Chapel Hill', 'Dallas'), ('Nashville', 'Denver'), ('Chicago', 'Denver'), ('Chicago', 'Las Vegas'), ('Chicago', 'San Francisco'), ('Dallas', 'Phoenix'), ('Dallas', 'Denver'), ('Las Vegas', 'San Francisco'), ('Las Vegas', 'Phoenix'), ('San Francisco', 'Los Angeles'), ('Phoenix', 'Los Angeles'), ('Phoenix', 'Denver')])"
            ]
          },
          "metadata": {},
          "execution_count": 14
        }
      ],
      "source": [
        "grafo.edges"
      ]
    },
    {
      "cell_type": "code",
      "execution_count": 15,
      "id": "9b159b38",
      "metadata": {
        "colab": {
          "base_uri": "https://localhost:8080/"
        },
        "id": "9b159b38",
        "outputId": "da123acc-12b7-42b1-d6b3-4b9b03593958"
      },
      "outputs": [
        {
          "output_type": "execute_result",
          "data": {
            "text/plain": [
              "NodeView(('Chapel Hill', 'Nashville', 'Chicago', 'Dallas', 'Las Vegas', 'San Francisco', 'Phoenix', 'Denver', 'Los Angeles'))"
            ]
          },
          "metadata": {},
          "execution_count": 15
        }
      ],
      "source": [
        "grafo.nodes"
      ]
    }
  ],
  "metadata": {
    "kernelspec": {
      "display_name": "Python 3 (ipykernel)",
      "language": "python",
      "name": "python3"
    },
    "language_info": {
      "codemirror_mode": {
        "name": "ipython",
        "version": 3
      },
      "file_extension": ".py",
      "mimetype": "text/x-python",
      "name": "python",
      "nbconvert_exporter": "python",
      "pygments_lexer": "ipython3",
      "version": "3.10.9"
    },
    "colab": {
      "provenance": [],
      "include_colab_link": true
    }
  },
  "nbformat": 4,
  "nbformat_minor": 5
}