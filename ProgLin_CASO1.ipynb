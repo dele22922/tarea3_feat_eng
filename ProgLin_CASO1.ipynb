{
  "cells": [
    {
      "cell_type": "markdown",
      "metadata": {
        "id": "view-in-github",
        "colab_type": "text"
      },
      "source": [
        "<a href=\"https://colab.research.google.com/github/dele22922/tarea3_feat_eng/blob/main/ProgLin_CASO1.ipynb\" target=\"_parent\"><img src=\"https://colab.research.google.com/assets/colab-badge.svg\" alt=\"Open In Colab\"/></a>"
      ]
    },
    {
      "cell_type": "markdown",
      "id": "099d4257",
      "metadata": {
        "id": "099d4257"
      },
      "source": [
        "## Programacion Lineal pura"
      ]
    },
    {
      "cell_type": "markdown",
      "id": "52705dc2",
      "metadata": {
        "id": "52705dc2"
      },
      "source": [
        "Una compañía tiene que escoger un conjunto de proyectos de la siguiente lista para un horizonte de planeación de 3 años. Su objetivo es maximizar el Valor Presente Neto Total, pero sin gastar más de lo presupuestado en cualquiera de los 3 años.\n",
        "\n",
        "Unidad monetaria: $ 1000.\n",
        "\n",
        "![image.png](attachment:image.png)\n",
        "\n",
        "Además se dan las siguientes condiciones:\n",
        "a) La compañía debe escoger al menos uno de los proyectos 1 o 9, (o ambos).\n",
        "b) Si el proyecto 6 es seleccionado, entonces el proyecto 8 también debe ser seleccionado, pero si el proyecto 8 se selecciona, el proyecto 6 no necesariamente debe ser seleccionado.\n",
        "c) Los proyectos 1 y 3 no deben ser seleccionados a la vez.\n"
      ]
    },
    {
      "cell_type": "code",
      "execution_count": 2,
      "id": "abecf700",
      "metadata": {
        "colab": {
          "base_uri": "https://localhost:8080/"
        },
        "id": "abecf700",
        "outputId": "cfe08338-d544-4740-8e8e-548bff751c9a"
      },
      "outputs": [
        {
          "output_type": "stream",
          "name": "stdout",
          "text": [
            "Collecting pulp\n",
            "  Downloading PuLP-2.7.0-py3-none-any.whl (14.3 MB)\n",
            "\u001b[2K     \u001b[90m━━━━━━━━━━━━━━━━━━━━━━━━━━━━━━━━━━━━━━━━\u001b[0m \u001b[32m14.3/14.3 MB\u001b[0m \u001b[31m66.7 MB/s\u001b[0m eta \u001b[36m0:00:00\u001b[0m\n",
            "\u001b[?25hInstalling collected packages: pulp\n",
            "Successfully installed pulp-2.7.0\n"
          ]
        }
      ],
      "source": [
        "!pip install pulp\n",
        "from pulp import *\n",
        "import numpy as np"
      ]
    },
    {
      "cell_type": "code",
      "execution_count": 3,
      "id": "a52955a8",
      "metadata": {
        "id": "a52955a8"
      },
      "outputs": [],
      "source": [
        "COSTOS = LpProblem(\"COSTOS\", LpMinimize)"
      ]
    },
    {
      "cell_type": "code",
      "source": [
        "Rag5=LpVariable(\"Rag, und 5 de Miami Fort\",0)\n",
        "Rag7=LpVariable(\"Rag, und 7 de Miami Fort\",0)\n",
        "RagB=LpVariable(\"Rag, und 1 de Beckjord\",0)\n",
        "Rag2=LpVariable(\"Rag, und 2 de East Bend\",0)\n",
        "RagZ=LpVariable(\"Rag, und 1 de Zimmer\",0)\n",
        "PE5=LpVariable(\"Peabody, und 5 de Miami Fort\",0)\n",
        "PE7=LpVariable(\"Peabody, und 7 de Miami Fort\",0)\n",
        "PEB=LpVariable(\"Peabody, und 1 de Beckjord\",0)\n",
        "PE2=LpVariable(\"Peabody, und 2 de East Bend\",0)\n",
        "PEZ=LpVariable(\"Peabody, und 1 de Zimmer\",0)\n",
        "AM5=LpVariable(\"American, und 5 de Miami Fort\",0)\n",
        "AM7=LpVariable(\"American, und 7 de Miami Fort\",0)\n",
        "AMB=LpVariable(\"American, und 1 de Beckjord\",0)\n",
        "AM2=LpVariable(\"American, und 2 de East Bend\",0)\n",
        "AMZ=LpVariable(\"American, und 1 de Zimmer\",0)\n",
        "\n",
        "CO5=LpVariable(\"Consol, und 5 de Miami Fort\",0)\n",
        "CO7=LpVariable(\"Consol, und 7 de Miami Fort\",0)\n",
        "COB=LpVariable(\"Consol, und 1 de Beckjord\",0)\n",
        "CO2=LpVariable(\"Consol, und 2 de East Bend\",0)\n",
        "COZ=LpVariable(\"Consol, und 1 de Zimmer\",0)\n",
        "CY5=LpVariable(\"Cyprus, und 5 de Miami Fort\",0)\n",
        "CY7=LpVariable(\"Cyprus, und 7 de Miami Fort\",0)\n",
        "CYB=LpVariable(\"Cyprus, und 1 de Beckjord\",0)\n",
        "CY2=LpVariable(\"Cyprus, und 2 de East Bend\",0)\n",
        "CYZ=LpVariable(\"Cyprus, und 1 de Zimmer\",0)\n",
        "AD5=LpVariable(\"Addington, und 5 de Miami Fort\",0)\n",
        "AD7=LpVariable(\"Addington, und 7 de Miami Fort\",0)\n",
        "ADB=LpVariable(\"Addington, und 1 de Beckjord\",0)\n",
        "AD2=LpVariable(\"Addington, und 2 de East Bend\",0)\n",
        "ADZ=LpVariable(\"Addington, und 1 de Zimmer\",0)\n",
        "WA5=LpVariable(\"Waterloo, und 5 de Miami Fort\",0)\n",
        "WA7=LpVariable(\"Waterloo, und 7 de Miami Fort\",0)\n",
        "WAB=LpVariable(\"Waterloo, und 1 de Beckjord\",0)\n",
        "WA2=LpVariable(\"Waterloo, und 2 de East Bend\",0)\n",
        "WAZ=LpVariable(\"Waterloo, und 1 de Zimmer\",0)\n",
        "\n",
        "\n",
        "\n"
      ],
      "metadata": {
        "id": "yLlHiTzF8NnV"
      },
      "id": "yLlHiTzF8NnV",
      "execution_count": 4,
      "outputs": []
    },
    {
      "cell_type": "code",
      "source": [
        "COSTOS += Rag5*(22+5+10) + Rag7*(22+5+10) + RagB*(22+4.75+10) + Rag2*(22+5+5) + RagZ*(22+4.75+6) + PE5*(26+3.75+10) + PE7*(26+3.75+10) + PEB*(26+3.50+11) + PE2*(26+3.75+6) + PEZ*(26+3.50+7) + AM5*(22+3+13) + AM7*(22+3+13) + AMB*(22+2.75+15) + AM2*(22+3+9) + AMZ*(22+2.75+9) + CO5*(32+3.25+10) + CO7*(32+3.25+10) + COB*(32+2.85+11) + CO2*(32+3.25+7) + COZ*(32+2.85+7) + CY5*(35+5+10) + CY7*(35+5+10) + CYB*(35+4.75+ 10) + CY2*(35+5+5) + CYZ*(35+4.75+6) + AD5*(31+2.25+5) + AD7*(31+2.25+5) + ADB*(31+2+6) + AD2*(31+2.25+4) + ADZ*(31+2+4) + WA5*(33+2+11) + AM7*(33+2+11) + AMB*(33+1.60+11) + AM2*(33+2+5) + AMZ*(33+1.60+9)"
      ],
      "metadata": {
        "id": "_SF-qDgMA4x8"
      },
      "id": "_SF-qDgMA4x8",
      "execution_count": 9,
      "outputs": []
    },
    {
      "cell_type": "markdown",
      "source": [
        "**RESTRICCIONES**"
      ],
      "metadata": {
        "id": "4W-q8bQ_yCEP"
      },
      "id": "4W-q8bQ_yCEP"
    },
    {
      "cell_type": "code",
      "source": [
        "COSTOS += Rag5 + Rag7 + RagB + Rag2 + RagZ == 350000 ,\"Contrato RAG\"\n",
        "COSTOS += PE5 + PE7 + PEB + PE2 + PEZ == 300000 ,\"Contrato Peabody\"\n",
        "COSTOS += AM5 + AM7 + AMB + AM2 + AMZ == 275000 ,\"Contrato American\"\n",
        "COSTOS += CO5 + CO7 + COB + CO2 + COZ <= 200000 ,\"Contrato Consol\"\n",
        "COSTOS += CY5 + CY7 + CYB + CY2 + CYZ <= 175000 ,\"Contrato Cyprus\"\n",
        "COSTOS += AD5 + AD7 + ADB + AD2 + ADZ <= 200000 ,\"Contrato Addington\"\n",
        "COSTOS += WA5 + WA7 + WAB + WA2 + WAZ <= 180000 ,\"Contrato Waterloo\"\n",
        "COSTOS += 2.728761905*Rag5 + 2.791733333*PE5 + 2.6448*AM5 + 2.57133333*CO5 + 2.518857143*CY5 + 2.518857143*AD5 + 2.37192381*WA5 >= 550000, \"Produccion Miami und 5 Miami Fort\"\n",
        "COSTOS += 2.8090196*Rag7 + 2.873843137*PE7 + 2.722588*AM7 + 2.64696078*CO7 + 2.592941176*CY7 + 2.592941176*AD7 + 2.441686274*WA7 >= 500000, \"Produccion Miami und 7 Miami Fort\"\n",
        "COSTOS += 2.8368317*RagB + 2.90229703*PEB + 2.749545*AMB + 2.67316832*COB + 2.618613861*CYB + 2.618613861*ADB + 2.465861386*WAB >= 650000, \"Produccion Beckjord und 1\"\n",
        "COSTOS += 2.8652*Rag2 + 2.93132*PE2 + 2.77704*AM2 + 2.6999*CO2 + 2.6448*CY2 + 2.6448*AD2 + 2.49052*WA2 >= 750000, \"Produccion East Bend 2\"\n",
        "COSTOS += 2.8652*RagZ + 2.93132*PEZ + 2.77704*AMZ + 2.6999*COZ + 2.6448*CYZ + 2.6448*ADZ + 2.49052*WAZ >= 1100000, \"Produccion Zimmer und 1\"\n",
        "\n",
        "\n"
      ],
      "metadata": {
        "id": "qUz9Ia9yyAgT"
      },
      "id": "qUz9Ia9yyAgT",
      "execution_count": 10,
      "outputs": []
    },
    {
      "cell_type": "code",
      "source": [
        "COSTOS"
      ],
      "metadata": {
        "colab": {
          "base_uri": "https://localhost:8080/"
        },
        "id": "vkDdM8DPGqxi",
        "outputId": "5fdc9cd0-466a-433f-f70d-c143dfd2f2a8"
      },
      "id": "vkDdM8DPGqxi",
      "execution_count": 11,
      "outputs": [
        {
          "output_type": "execute_result",
          "data": {
            "text/plain": [
              "COSTOS:\n",
              "MINIMIZE\n",
              "39*Addington,_und_1_de_Beckjord + 37*Addington,_und_1_de_Zimmer + 37.25*Addington,_und_2_de_East_Bend + 38.25*Addington,_und_5_de_Miami_Fort + 38.25*Addington,_und_7_de_Miami_Fort + 85.35*American,_und_1_de_Beckjord + 77.35*American,_und_1_de_Zimmer + 74*American,_und_2_de_East_Bend + 38*American,_und_5_de_Miami_Fort + 84*American,_und_7_de_Miami_Fort + 45.85*Consol,_und_1_de_Beckjord + 41.85*Consol,_und_1_de_Zimmer + 42.25*Consol,_und_2_de_East_Bend + 45.25*Consol,_und_5_de_Miami_Fort + 45.25*Consol,_und_7_de_Miami_Fort + 49.75*Cyprus,_und_1_de_Beckjord + 45.75*Cyprus,_und_1_de_Zimmer + 45*Cyprus,_und_2_de_East_Bend + 50*Cyprus,_und_5_de_Miami_Fort + 50*Cyprus,_und_7_de_Miami_Fort + 40.5*Peabody,_und_1_de_Beckjord + 36.5*Peabody,_und_1_de_Zimmer + 35.75*Peabody,_und_2_de_East_Bend + 39.75*Peabody,_und_5_de_Miami_Fort + 39.75*Peabody,_und_7_de_Miami_Fort + 36.75*Rag,_und_1_de_Beckjord + 32.75*Rag,_und_1_de_Zimmer + 32*Rag,_und_2_de_East_Bend + 37*Rag,_und_5_de_Miami_Fort + 37*Rag,_und_7_de_Miami_Fort + 46*Waterloo,_und_5_de_Miami_Fort + 0.0\n",
              "SUBJECT TO\n",
              "Contrato_RAG: Rag,_und_1_de_Beckjord + Rag,_und_1_de_Zimmer\n",
              " + Rag,_und_2_de_East_Bend + Rag,_und_5_de_Miami_Fort\n",
              " + Rag,_und_7_de_Miami_Fort = 350000\n",
              "\n",
              "Contrato_Peabody: Peabody,_und_1_de_Beckjord + Peabody,_und_1_de_Zimmer\n",
              " + Peabody,_und_2_de_East_Bend + Peabody,_und_5_de_Miami_Fort\n",
              " + Peabody,_und_7_de_Miami_Fort = 300000\n",
              "\n",
              "Contrato_American: American,_und_1_de_Beckjord + American,_und_1_de_Zimmer\n",
              " + American,_und_2_de_East_Bend + American,_und_5_de_Miami_Fort\n",
              " + American,_und_7_de_Miami_Fort = 275000\n",
              "\n",
              "Contrato_Consol: Consol,_und_1_de_Beckjord + Consol,_und_1_de_Zimmer\n",
              " + Consol,_und_2_de_East_Bend + Consol,_und_5_de_Miami_Fort\n",
              " + Consol,_und_7_de_Miami_Fort <= 200000\n",
              "\n",
              "Contrato_Cyprus: Cyprus,_und_1_de_Beckjord + Cyprus,_und_1_de_Zimmer\n",
              " + Cyprus,_und_2_de_East_Bend + Cyprus,_und_5_de_Miami_Fort\n",
              " + Cyprus,_und_7_de_Miami_Fort <= 175000\n",
              "\n",
              "Contrato_Addington: Addington,_und_1_de_Beckjord + Addington,_und_1_de_Zimmer\n",
              " + Addington,_und_2_de_East_Bend + Addington,_und_5_de_Miami_Fort\n",
              " + Addington,_und_7_de_Miami_Fort <= 200000\n",
              "\n",
              "Contrato_Waterloo: Waterloo,_und_1_de_Beckjord + Waterloo,_und_1_de_Zimmer\n",
              " + Waterloo,_und_2_de_East_Bend + Waterloo,_und_5_de_Miami_Fort\n",
              " + Waterloo,_und_7_de_Miami_Fort <= 180000\n",
              "\n",
              "Produccion_Miami_und_5_Miami_Fort: 2.518857143 Addington,_und_5_de_Miami_Fort\n",
              " + 2.6448 American,_und_5_de_Miami_Fort\n",
              " + 2.57133333 Consol,_und_5_de_Miami_Fort\n",
              " + 2.518857143 Cyprus,_und_5_de_Miami_Fort\n",
              " + 2.791733333 Peabody,_und_5_de_Miami_Fort\n",
              " + 2.728761905 Rag,_und_5_de_Miami_Fort\n",
              " + 2.37192381 Waterloo,_und_5_de_Miami_Fort >= 550000\n",
              "\n",
              "Produccion_Miami_und_7_Miami_Fort: 2.592941176 Addington,_und_7_de_Miami_Fort\n",
              " + 2.722588 American,_und_7_de_Miami_Fort\n",
              " + 2.64696078 Consol,_und_7_de_Miami_Fort\n",
              " + 2.592941176 Cyprus,_und_7_de_Miami_Fort\n",
              " + 2.873843137 Peabody,_und_7_de_Miami_Fort\n",
              " + 2.8090196 Rag,_und_7_de_Miami_Fort\n",
              " + 2.441686274 Waterloo,_und_7_de_Miami_Fort >= 500000\n",
              "\n",
              "Produccion_Beckjord_und_1: 2.618613861 Addington,_und_1_de_Beckjord\n",
              " + 2.749545 American,_und_1_de_Beckjord + 2.67316832 Consol,_und_1_de_Beckjord\n",
              " + 2.618613861 Cyprus,_und_1_de_Beckjord\n",
              " + 2.90229703 Peabody,_und_1_de_Beckjord + 2.8368317 Rag,_und_1_de_Beckjord\n",
              " + 2.465861386 Waterloo,_und_1_de_Beckjord >= 650000\n",
              "\n",
              "Produccion_East_Bend_2: 2.6448 Addington,_und_2_de_East_Bend\n",
              " + 2.77704 American,_und_2_de_East_Bend + 2.6999 Consol,_und_2_de_East_Bend\n",
              " + 2.6448 Cyprus,_und_2_de_East_Bend + 2.93132 Peabody,_und_2_de_East_Bend\n",
              " + 2.8652 Rag,_und_2_de_East_Bend + 2.49052 Waterloo,_und_2_de_East_Bend\n",
              " >= 750000\n",
              "\n",
              "Produccion_Zimmer_und_1: 2.6448 Addington,_und_1_de_Zimmer\n",
              " + 2.77704 American,_und_1_de_Zimmer + 2.6999 Consol,_und_1_de_Zimmer\n",
              " + 2.6448 Cyprus,_und_1_de_Zimmer + 2.93132 Peabody,_und_1_de_Zimmer\n",
              " + 2.8652 Rag,_und_1_de_Zimmer + 2.49052 Waterloo,_und_1_de_Zimmer >= 1100000\n",
              "\n",
              "VARIABLES\n",
              "Addington,_und_1_de_Beckjord Continuous\n",
              "Addington,_und_1_de_Zimmer Continuous\n",
              "Addington,_und_2_de_East_Bend Continuous\n",
              "Addington,_und_5_de_Miami_Fort Continuous\n",
              "Addington,_und_7_de_Miami_Fort Continuous\n",
              "American,_und_1_de_Beckjord Continuous\n",
              "American,_und_1_de_Zimmer Continuous\n",
              "American,_und_2_de_East_Bend Continuous\n",
              "American,_und_5_de_Miami_Fort Continuous\n",
              "American,_und_7_de_Miami_Fort Continuous\n",
              "Consol,_und_1_de_Beckjord Continuous\n",
              "Consol,_und_1_de_Zimmer Continuous\n",
              "Consol,_und_2_de_East_Bend Continuous\n",
              "Consol,_und_5_de_Miami_Fort Continuous\n",
              "Consol,_und_7_de_Miami_Fort Continuous\n",
              "Cyprus,_und_1_de_Beckjord Continuous\n",
              "Cyprus,_und_1_de_Zimmer Continuous\n",
              "Cyprus,_und_2_de_East_Bend Continuous\n",
              "Cyprus,_und_5_de_Miami_Fort Continuous\n",
              "Cyprus,_und_7_de_Miami_Fort Continuous\n",
              "Peabody,_und_1_de_Beckjord Continuous\n",
              "Peabody,_und_1_de_Zimmer Continuous\n",
              "Peabody,_und_2_de_East_Bend Continuous\n",
              "Peabody,_und_5_de_Miami_Fort Continuous\n",
              "Peabody,_und_7_de_Miami_Fort Continuous\n",
              "Rag,_und_1_de_Beckjord Continuous\n",
              "Rag,_und_1_de_Zimmer Continuous\n",
              "Rag,_und_2_de_East_Bend Continuous\n",
              "Rag,_und_5_de_Miami_Fort Continuous\n",
              "Rag,_und_7_de_Miami_Fort Continuous\n",
              "Waterloo,_und_1_de_Beckjord Continuous\n",
              "Waterloo,_und_1_de_Zimmer Continuous\n",
              "Waterloo,_und_2_de_East_Bend Continuous\n",
              "Waterloo,_und_5_de_Miami_Fort Continuous\n",
              "Waterloo,_und_7_de_Miami_Fort Continuous"
            ]
          },
          "metadata": {},
          "execution_count": 11
        }
      ]
    },
    {
      "cell_type": "code",
      "source": [
        "COSTOS"
      ],
      "metadata": {
        "colab": {
          "base_uri": "https://localhost:8080/"
        },
        "id": "XrtFgF97dLik",
        "outputId": "80f951e5-3112-4cc8-9513-a1bfdd2b6591"
      },
      "id": "XrtFgF97dLik",
      "execution_count": 15,
      "outputs": [
        {
          "output_type": "execute_result",
          "data": {
            "text/plain": [
              "COSTOS:\n",
              "MINIMIZE\n",
              "39*Addington,_und_1_de_Beckjord + 37*Addington,_und_1_de_Zimmer + 37.25*Addington,_und_2_de_East_Bend + 38.25*Addington,_und_5_de_Miami_Fort + 38.25*Addington,_und_7_de_Miami_Fort + 85.35*American,_und_1_de_Beckjord + 77.35*American,_und_1_de_Zimmer + 74*American,_und_2_de_East_Bend + 38*American,_und_5_de_Miami_Fort + 84*American,_und_7_de_Miami_Fort + 45.85*Consol,_und_1_de_Beckjord + 41.85*Consol,_und_1_de_Zimmer + 42.25*Consol,_und_2_de_East_Bend + 45.25*Consol,_und_5_de_Miami_Fort + 45.25*Consol,_und_7_de_Miami_Fort + 49.75*Cyprus,_und_1_de_Beckjord + 45.75*Cyprus,_und_1_de_Zimmer + 45*Cyprus,_und_2_de_East_Bend + 50*Cyprus,_und_5_de_Miami_Fort + 50*Cyprus,_und_7_de_Miami_Fort + 40.5*Peabody,_und_1_de_Beckjord + 36.5*Peabody,_und_1_de_Zimmer + 35.75*Peabody,_und_2_de_East_Bend + 39.75*Peabody,_und_5_de_Miami_Fort + 39.75*Peabody,_und_7_de_Miami_Fort + 36.75*Rag,_und_1_de_Beckjord + 32.75*Rag,_und_1_de_Zimmer + 32*Rag,_und_2_de_East_Bend + 37*Rag,_und_5_de_Miami_Fort + 37*Rag,_und_7_de_Miami_Fort + 46*Waterloo,_und_5_de_Miami_Fort + 0.0\n",
              "SUBJECT TO\n",
              "Contrato_RAG: Rag,_und_1_de_Beckjord + Rag,_und_1_de_Zimmer\n",
              " + Rag,_und_2_de_East_Bend + Rag,_und_5_de_Miami_Fort\n",
              " + Rag,_und_7_de_Miami_Fort = 350000\n",
              "\n",
              "Contrato_Peabody: Peabody,_und_1_de_Beckjord + Peabody,_und_1_de_Zimmer\n",
              " + Peabody,_und_2_de_East_Bend + Peabody,_und_5_de_Miami_Fort\n",
              " + Peabody,_und_7_de_Miami_Fort = 300000\n",
              "\n",
              "Contrato_American: American,_und_1_de_Beckjord + American,_und_1_de_Zimmer\n",
              " + American,_und_2_de_East_Bend + American,_und_5_de_Miami_Fort\n",
              " + American,_und_7_de_Miami_Fort = 275000\n",
              "\n",
              "Contrato_Consol: Consol,_und_1_de_Beckjord + Consol,_und_1_de_Zimmer\n",
              " + Consol,_und_2_de_East_Bend + Consol,_und_5_de_Miami_Fort\n",
              " + Consol,_und_7_de_Miami_Fort <= 200000\n",
              "\n",
              "Contrato_Cyprus: Cyprus,_und_1_de_Beckjord + Cyprus,_und_1_de_Zimmer\n",
              " + Cyprus,_und_2_de_East_Bend + Cyprus,_und_5_de_Miami_Fort\n",
              " + Cyprus,_und_7_de_Miami_Fort <= 175000\n",
              "\n",
              "Contrato_Addington: Addington,_und_1_de_Beckjord + Addington,_und_1_de_Zimmer\n",
              " + Addington,_und_2_de_East_Bend + Addington,_und_5_de_Miami_Fort\n",
              " + Addington,_und_7_de_Miami_Fort <= 200000\n",
              "\n",
              "Contrato_Waterloo: Waterloo,_und_1_de_Beckjord + Waterloo,_und_1_de_Zimmer\n",
              " + Waterloo,_und_2_de_East_Bend + Waterloo,_und_5_de_Miami_Fort\n",
              " + Waterloo,_und_7_de_Miami_Fort <= 180000\n",
              "\n",
              "Produccion_Miami_und_5_Miami_Fort: 2.518857143 Addington,_und_5_de_Miami_Fort\n",
              " + 2.6448 American,_und_5_de_Miami_Fort\n",
              " + 2.57133333 Consol,_und_5_de_Miami_Fort\n",
              " + 2.518857143 Cyprus,_und_5_de_Miami_Fort\n",
              " + 2.791733333 Peabody,_und_5_de_Miami_Fort\n",
              " + 2.728761905 Rag,_und_5_de_Miami_Fort\n",
              " + 2.37192381 Waterloo,_und_5_de_Miami_Fort >= 550000\n",
              "\n",
              "Produccion_Miami_und_7_Miami_Fort: 2.592941176 Addington,_und_7_de_Miami_Fort\n",
              " + 2.722588 American,_und_7_de_Miami_Fort\n",
              " + 2.64696078 Consol,_und_7_de_Miami_Fort\n",
              " + 2.592941176 Cyprus,_und_7_de_Miami_Fort\n",
              " + 2.873843137 Peabody,_und_7_de_Miami_Fort\n",
              " + 2.8090196 Rag,_und_7_de_Miami_Fort\n",
              " + 2.441686274 Waterloo,_und_7_de_Miami_Fort >= 500000\n",
              "\n",
              "Produccion_Beckjord_und_1: 2.618613861 Addington,_und_1_de_Beckjord\n",
              " + 2.749545 American,_und_1_de_Beckjord + 2.67316832 Consol,_und_1_de_Beckjord\n",
              " + 2.618613861 Cyprus,_und_1_de_Beckjord\n",
              " + 2.90229703 Peabody,_und_1_de_Beckjord + 2.8368317 Rag,_und_1_de_Beckjord\n",
              " + 2.465861386 Waterloo,_und_1_de_Beckjord >= 650000\n",
              "\n",
              "Produccion_East_Bend_2: 2.6448 Addington,_und_2_de_East_Bend\n",
              " + 2.77704 American,_und_2_de_East_Bend + 2.6999 Consol,_und_2_de_East_Bend\n",
              " + 2.6448 Cyprus,_und_2_de_East_Bend + 2.93132 Peabody,_und_2_de_East_Bend\n",
              " + 2.8652 Rag,_und_2_de_East_Bend + 2.49052 Waterloo,_und_2_de_East_Bend\n",
              " >= 750000\n",
              "\n",
              "Produccion_Zimmer_und_1: 2.6448 Addington,_und_1_de_Zimmer\n",
              " + 2.77704 American,_und_1_de_Zimmer + 2.6999 Consol,_und_1_de_Zimmer\n",
              " + 2.6448 Cyprus,_und_1_de_Zimmer + 2.93132 Peabody,_und_1_de_Zimmer\n",
              " + 2.8652 Rag,_und_1_de_Zimmer + 2.49052 Waterloo,_und_1_de_Zimmer >= 1100000\n",
              "\n",
              "VARIABLES\n",
              "Addington,_und_1_de_Beckjord Continuous\n",
              "Addington,_und_1_de_Zimmer Continuous\n",
              "Addington,_und_2_de_East_Bend Continuous\n",
              "Addington,_und_5_de_Miami_Fort Continuous\n",
              "Addington,_und_7_de_Miami_Fort Continuous\n",
              "American,_und_1_de_Beckjord Continuous\n",
              "American,_und_1_de_Zimmer Continuous\n",
              "American,_und_2_de_East_Bend Continuous\n",
              "American,_und_5_de_Miami_Fort Continuous\n",
              "American,_und_7_de_Miami_Fort Continuous\n",
              "Consol,_und_1_de_Beckjord Continuous\n",
              "Consol,_und_1_de_Zimmer Continuous\n",
              "Consol,_und_2_de_East_Bend Continuous\n",
              "Consol,_und_5_de_Miami_Fort Continuous\n",
              "Consol,_und_7_de_Miami_Fort Continuous\n",
              "Cyprus,_und_1_de_Beckjord Continuous\n",
              "Cyprus,_und_1_de_Zimmer Continuous\n",
              "Cyprus,_und_2_de_East_Bend Continuous\n",
              "Cyprus,_und_5_de_Miami_Fort Continuous\n",
              "Cyprus,_und_7_de_Miami_Fort Continuous\n",
              "Peabody,_und_1_de_Beckjord Continuous\n",
              "Peabody,_und_1_de_Zimmer Continuous\n",
              "Peabody,_und_2_de_East_Bend Continuous\n",
              "Peabody,_und_5_de_Miami_Fort Continuous\n",
              "Peabody,_und_7_de_Miami_Fort Continuous\n",
              "Rag,_und_1_de_Beckjord Continuous\n",
              "Rag,_und_1_de_Zimmer Continuous\n",
              "Rag,_und_2_de_East_Bend Continuous\n",
              "Rag,_und_5_de_Miami_Fort Continuous\n",
              "Rag,_und_7_de_Miami_Fort Continuous\n",
              "Waterloo,_und_1_de_Beckjord Continuous\n",
              "Waterloo,_und_1_de_Zimmer Continuous\n",
              "Waterloo,_und_2_de_East_Bend Continuous\n",
              "Waterloo,_und_5_de_Miami_Fort Continuous\n",
              "Waterloo,_und_7_de_Miami_Fort Continuous"
            ]
          },
          "metadata": {},
          "execution_count": 15
        }
      ]
    },
    {
      "cell_type": "code",
      "source": [
        "COSTOS.solve()"
      ],
      "metadata": {
        "colab": {
          "base_uri": "https://localhost:8080/"
        },
        "id": "kbzFTdfwWlWm",
        "outputId": "01a92a7a-4463-49e0-9d99-82ab24789661"
      },
      "id": "kbzFTdfwWlWm",
      "execution_count": 12,
      "outputs": [
        {
          "output_type": "execute_result",
          "data": {
            "text/plain": [
              "1"
            ]
          },
          "metadata": {},
          "execution_count": 12
        }
      ]
    },
    {
      "cell_type": "code",
      "source": [
        "for v in COSTOS.variables():\n",
        "    print(v.name, \"=\",v.varValue)\n"
      ],
      "metadata": {
        "colab": {
          "base_uri": "https://localhost:8080/"
        },
        "id": "eDVJgrt4Wlhw",
        "outputId": "a17815c7-2aaf-461e-e38a-b17c15bc836e"
      },
      "id": "eDVJgrt4Wlhw",
      "execution_count": 14,
      "outputs": [
        {
          "output_type": "stream",
          "name": "stdout",
          "text": [
            "Addington,_und_1_de_Beckjord = 0.0\n",
            "Addington,_und_1_de_Zimmer = 0.0\n",
            "Addington,_und_2_de_East_Bend = 0.0\n",
            "Addington,_und_5_de_Miami_Fort = 0.0\n",
            "Addington,_und_7_de_Miami_Fort = 188976.26\n",
            "American,_und_1_de_Beckjord = 0.0\n",
            "American,_und_1_de_Zimmer = 0.0\n",
            "American,_und_2_de_East_Bend = 67044.767\n",
            "American,_und_5_de_Miami_Fort = 207955.23\n",
            "American,_und_7_de_Miami_Fort = 0.0\n",
            "Consol,_und_1_de_Beckjord = 0.0\n",
            "Consol,_und_1_de_Zimmer = 0.0\n",
            "Consol,_und_2_de_East_Bend = 0.0\n",
            "Consol,_und_5_de_Miami_Fort = 0.0\n",
            "Consol,_und_7_de_Miami_Fort = 0.0\n",
            "Cyprus,_und_1_de_Beckjord = 0.0\n",
            "Cyprus,_und_1_de_Zimmer = 0.0\n",
            "Cyprus,_und_2_de_East_Bend = 0.0\n",
            "Cyprus,_und_5_de_Miami_Fort = 0.0\n",
            "Cyprus,_und_7_de_Miami_Fort = 0.0\n",
            "Peabody,_und_1_de_Beckjord = 71028.206\n",
            "Peabody,_und_1_de_Zimmer = 225493.63\n",
            "Peabody,_und_2_de_East_Bend = 0.0\n",
            "Peabody,_und_5_de_Miami_Fort = 0.0\n",
            "Peabody,_und_7_de_Miami_Fort = 3478.16\n",
            "Rag,_und_1_de_Beckjord = 0.0\n",
            "Rag,_und_1_de_Zimmer = 153220.02\n",
            "Rag,_und_2_de_East_Bend = 196779.98\n",
            "Rag,_und_5_de_Miami_Fort = 0.0\n",
            "Rag,_und_7_de_Miami_Fort = 0.0\n",
            "Waterloo,_und_1_de_Beckjord = 180000.0\n",
            "Waterloo,_und_1_de_Zimmer = 0.0\n",
            "Waterloo,_und_2_de_East_Bend = 0.0\n",
            "Waterloo,_und_5_de_Miami_Fort = 0.0\n",
            "Waterloo,_und_7_de_Miami_Fort = 0.0\n"
          ]
        }
      ]
    },
    {
      "cell_type": "code",
      "execution_count": null,
      "id": "96c34c99",
      "metadata": {
        "id": "96c34c99"
      },
      "outputs": [],
      "source": [
        "COSTOS.solve()"
      ]
    },
    {
      "cell_type": "code",
      "execution_count": 16,
      "id": "c856f8ed",
      "metadata": {
        "colab": {
          "base_uri": "https://localhost:8080/"
        },
        "id": "c856f8ed",
        "outputId": "900b8d0e-8cca-4d3d-bbe1-467854c61da2"
      },
      "outputs": [
        {
          "output_type": "execute_result",
          "data": {
            "text/plain": [
              "42652285.156"
            ]
          },
          "metadata": {},
          "execution_count": 16
        }
      ],
      "source": [
        "COSTOS.objective.value()"
      ]
    },
    {
      "cell_type": "code",
      "execution_count": 17,
      "id": "7a213f21",
      "metadata": {
        "colab": {
          "base_uri": "https://localhost:8080/"
        },
        "id": "7a213f21",
        "outputId": "2951e758-37b1-43d7-e087-bc9e66b25e37"
      },
      "outputs": [
        {
          "output_type": "stream",
          "name": "stdout",
          "text": [
            "Addington,_und_1_de_Beckjord 0.0\n",
            "Addington,_und_1_de_Zimmer 0.0\n",
            "Addington,_und_2_de_East_Bend 0.0\n",
            "Addington,_und_5_de_Miami_Fort 0.0\n",
            "Addington,_und_7_de_Miami_Fort 188976.26\n",
            "American,_und_1_de_Beckjord 0.0\n",
            "American,_und_1_de_Zimmer 0.0\n",
            "American,_und_2_de_East_Bend 67044.767\n",
            "American,_und_5_de_Miami_Fort 207955.23\n",
            "American,_und_7_de_Miami_Fort 0.0\n",
            "Consol,_und_1_de_Beckjord 0.0\n",
            "Consol,_und_1_de_Zimmer 0.0\n",
            "Consol,_und_2_de_East_Bend 0.0\n",
            "Consol,_und_5_de_Miami_Fort 0.0\n",
            "Consol,_und_7_de_Miami_Fort 0.0\n",
            "Cyprus,_und_1_de_Beckjord 0.0\n",
            "Cyprus,_und_1_de_Zimmer 0.0\n",
            "Cyprus,_und_2_de_East_Bend 0.0\n",
            "Cyprus,_und_5_de_Miami_Fort 0.0\n",
            "Cyprus,_und_7_de_Miami_Fort 0.0\n",
            "Peabody,_und_1_de_Beckjord 71028.206\n",
            "Peabody,_und_1_de_Zimmer 225493.63\n",
            "Peabody,_und_2_de_East_Bend 0.0\n",
            "Peabody,_und_5_de_Miami_Fort 0.0\n",
            "Peabody,_und_7_de_Miami_Fort 3478.16\n",
            "Rag,_und_1_de_Beckjord 0.0\n",
            "Rag,_und_1_de_Zimmer 153220.02\n",
            "Rag,_und_2_de_East_Bend 196779.98\n",
            "Rag,_und_5_de_Miami_Fort 0.0\n",
            "Rag,_und_7_de_Miami_Fort 0.0\n",
            "Waterloo,_und_1_de_Beckjord 180000.0\n",
            "Waterloo,_und_1_de_Zimmer 0.0\n",
            "Waterloo,_und_2_de_East_Bend 0.0\n",
            "Waterloo,_und_5_de_Miami_Fort 0.0\n",
            "Waterloo,_und_7_de_Miami_Fort 0.0\n"
          ]
        }
      ],
      "source": [
        "for variable in COSTOS.variables():\n",
        "    print(variable.name, variable.value())"
      ]
    },
    {
      "cell_type": "markdown",
      "id": "56951604",
      "metadata": {
        "id": "56951604"
      },
      "source": [
        "## Programacion Lineal Entera Mixta"
      ]
    },
    {
      "cell_type": "markdown",
      "id": "b935ca78",
      "metadata": {
        "id": "b935ca78"
      },
      "source": [
        "Usted ha sido designado por el gerente de su empresa para decidir cómo distribuirá su tráfico telefónico en el próximo mes, seleccionando entre 3 proveedores posibles y asignando la cantidad de tráfico (minutos) que desee en cada caso, es decir, puede repartir el tráfico en 1, 2 o 3 proveedores y su decisión sólo dependerá de los costos de cada alternativa.\n",
        "\n",
        "El proveedor 1 cobra un cargo fijo mensual de 150 y el costo por minuto a red fija es de  0.02 y a celular de 0.12. El proveedor 2 tiene un cargo fijo mensual de 160, con un costo por minuto de 0.015 y 0.15 a red fija y celular respectivamente. Finalmente el proveedor 3 tiene un cargo fijo mensual de solamente 50 con un costo por minuto a red fija de 0.03 y a celular de 0.14. Si usted llama por uno de estos proveedores (aunque hable sólo un minuto) deberá pagar el cargo fijo. Asuma que la cantidad de minutos que la empresa consume mensualmente es de 30,000 para red fija y 18,000 para celular. Formule y resuelva un modelo de Programación que permita decidir cómo distribuir el tráfico telefónico mensual de la forma más económica para la empresa.\n"
      ]
    },
    {
      "cell_type": "code",
      "execution_count": null,
      "id": "768d41e2",
      "metadata": {
        "id": "768d41e2"
      },
      "outputs": [],
      "source": [
        "## Datos\n",
        "\n",
        "reqRedFija = 30000\n",
        "reqCelular = 18000\n",
        "CostosFijos = np.array([150,160,50])\n",
        "CargosMinFijo = np.array([0.02,0.015,0.03])\n",
        "CargosMinCel = np.array([0.12,0.15,0.14])\n",
        "numprov = len(CostosFijos)"
      ]
    },
    {
      "cell_type": "code",
      "execution_count": null,
      "id": "28929d50",
      "metadata": {
        "id": "28929d50"
      },
      "outputs": [],
      "source": [
        "## Problema\n",
        "\n",
        "telefonia = LpProblem(\"Telefonia\", LpMinimize)"
      ]
    },
    {
      "cell_type": "code",
      "execution_count": null,
      "id": "786336d8",
      "metadata": {
        "id": "786336d8"
      },
      "outputs": [],
      "source": [
        "## Variables de Decision\n",
        "\n",
        "mincelular =  LpVariable.matrix(\"Cel\", range(numprov),lowBound=0,cat=\"Continuous\")\n",
        "minfija = LpVariable.matrix(\"Fija\", range(numprov), lowBound=0, cat=\"Continuous\")\n",
        "usarprov = LpVariable.matrix(\"Prov\", range(numprov), cat=\"Binary\")"
      ]
    },
    {
      "cell_type": "code",
      "execution_count": null,
      "id": "ea1152cf",
      "metadata": {
        "id": "ea1152cf"
      },
      "outputs": [],
      "source": [
        "## Funcion objetivo\n",
        "\n",
        "CostoMinFijo =  lpSum([minfija[i]*CargosMinFijo[i] for i in range(numprov)])\n",
        "CostoMinCel = lpSum([mincelular[i]*CargosMinCel[i] for i in range(numprov)])\n",
        "CostoFijoTot = lpSum([CostosFijos[i]*usarprov[i] for i in range(numprov)])\n",
        "\n",
        "telefonia += CostoMinFijo + CostoMinCel + CostoFijoTot"
      ]
    },
    {
      "cell_type": "code",
      "execution_count": null,
      "id": "3b7e3263",
      "metadata": {
        "id": "3b7e3263"
      },
      "outputs": [],
      "source": [
        "## Restricciones\n",
        "\n",
        "telefonia +=  lpSum([mincelular[i] for i in range(numprov)]) >= reqCelular\n",
        "telefonia +=  lpSum([minfija[i] for i in range(numprov)]) >= reqRedFija\n",
        "\n",
        "for j in range(numprov):\n",
        "    telefonia +=  mincelular[j] + minfija[j] <= (reqRedFija + reqCelular) * usarprov[j]"
      ]
    },
    {
      "cell_type": "code",
      "execution_count": null,
      "id": "faa0f9f3",
      "metadata": {
        "id": "faa0f9f3"
      },
      "outputs": [],
      "source": [
        "telefonia"
      ]
    },
    {
      "cell_type": "code",
      "execution_count": null,
      "id": "186a71c9",
      "metadata": {
        "id": "186a71c9"
      },
      "outputs": [],
      "source": [
        "telefonia.solve()"
      ]
    },
    {
      "cell_type": "code",
      "execution_count": null,
      "id": "9c7f3a44",
      "metadata": {
        "id": "9c7f3a44"
      },
      "outputs": [],
      "source": [
        "telefonia.objective.value()"
      ]
    },
    {
      "cell_type": "code",
      "execution_count": null,
      "id": "52ddc1aa",
      "metadata": {
        "id": "52ddc1aa"
      },
      "outputs": [],
      "source": [
        "for var in telefonia.variables():\n",
        "    print(var.name, var.value())"
      ]
    },
    {
      "cell_type": "code",
      "execution_count": null,
      "id": "fdf84531",
      "metadata": {
        "id": "fdf84531"
      },
      "outputs": [],
      "source": []
    }
  ],
  "metadata": {
    "kernelspec": {
      "display_name": "Python 3 (ipykernel)",
      "language": "python",
      "name": "python3"
    },
    "language_info": {
      "codemirror_mode": {
        "name": "ipython",
        "version": 3
      },
      "file_extension": ".py",
      "mimetype": "text/x-python",
      "name": "python",
      "nbconvert_exporter": "python",
      "pygments_lexer": "ipython3",
      "version": "3.10.9"
    },
    "colab": {
      "provenance": [],
      "include_colab_link": true
    }
  },
  "nbformat": 4,
  "nbformat_minor": 5
}