{
  "cells": [
    {
      "cell_type": "markdown",
      "metadata": {
        "id": "view-in-github",
        "colab_type": "text"
      },
      "source": [
        "<a href=\"https://colab.research.google.com/github/dele22922/tarea3_feat_eng/blob/main/EjemploPulpTransp_.ipynb\" target=\"_parent\"><img src=\"https://colab.research.google.com/assets/colab-badge.svg\" alt=\"Open In Colab\"/></a>"
      ]
    },
    {
      "cell_type": "markdown",
      "metadata": {
        "id": "gT6gZLKUdP4X"
      },
      "source": [
        "You want to minimize the cost of shipping goods from 2 different warehouses to 4 different customers. Each warehouse has a limited supply and each customer has a certain demand. We need to fulfil the demand of the customers by shipping products from given warehouses such that the overall cost of shipping is minimum and we are also able to satisfy the customer demands using limited supply available with each warehouse.\n",
        "![image.png](attachment:image.png)\n",
        "\n",
        "The customer demands and the warehouse availability is as follows.\n",
        "\n",
        "![image-2.png](attachment:image-2.png)"
      ]
    },
    {
      "cell_type": "code",
      "execution_count": 2,
      "metadata": {
        "colab": {
          "base_uri": "https://localhost:8080/"
        },
        "id": "WWjVx6hDdP4b",
        "outputId": "b8beac44-adf1-4a5a-ba23-5d24bc770c8e"
      },
      "outputs": [
        {
          "output_type": "stream",
          "name": "stdout",
          "text": [
            "Collecting pulp\n",
            "  Downloading PuLP-2.7.0-py3-none-any.whl (14.3 MB)\n",
            "\u001b[2K     \u001b[90m━━━━━━━━━━━━━━━━━━━━━━━━━━━━━━━━━━━━━━━━\u001b[0m \u001b[32m14.3/14.3 MB\u001b[0m \u001b[31m63.9 MB/s\u001b[0m eta \u001b[36m0:00:00\u001b[0m\n",
            "\u001b[?25hInstalling collected packages: pulp\n",
            "Successfully installed pulp-2.7.0\n"
          ]
        }
      ],
      "source": [
        "!pip install pulp\n",
        "from pulp import *\n",
        "import pandas as pd\n",
        "import numpy as np"
      ]
    },
    {
      "cell_type": "code",
      "execution_count": 3,
      "metadata": {
        "id": "zebw6KrKdP4d"
      },
      "outputs": [],
      "source": [
        "n_warehouses = 2\n",
        "n_customers = 4\n",
        "\n",
        "# Cost Matrix\n",
        "cost_matrix = np.array([[1, 3, 0.5, 4],\n",
        "                       [2.5, 5, 1.5, 2.5]])\n",
        "# Demand Matrix\n",
        "cust_demands = np.array([35000, 22000, 18000, 30000])\n",
        "\n",
        "# Supply Matrix\n",
        "warehouse_supply = np.array([60000, 80000])"
      ]
    },
    {
      "cell_type": "code",
      "execution_count": null,
      "metadata": {
        "id": "jwfyqchWdP4d"
      },
      "outputs": [],
      "source": [
        "model = LpProblem(\"Supply-Demand-Problem\", LpMinimize)"
      ]
    },
    {
      "cell_type": "code",
      "execution_count": null,
      "metadata": {
        "id": "Q0D2XHLsdP4e",
        "outputId": "8aa0d376-2878-47f9-d8fc-4a261c037002"
      },
      "outputs": [
        {
          "name": "stdout",
          "output_type": "stream",
          "text": [
            "Variable Indices: ['11', '12', '13', '14', '21', '22', '23', '24']\n"
          ]
        }
      ],
      "source": [
        "variable_names = [str(i)+str(j) for j in range(1, n_customers+1) for i in range(1, n_warehouses+1)]\n",
        "variable_names.sort()\n",
        "print(\"Variable Indices:\", variable_names)"
      ]
    },
    {
      "cell_type": "code",
      "execution_count": null,
      "metadata": {
        "id": "TH2D-QmkdP4f",
        "outputId": "4ba6ee60-91f6-4212-e546-64925d7b9462"
      },
      "outputs": [
        {
          "name": "stdout",
          "output_type": "stream",
          "text": [
            "Decision Variable/Allocation Matrix: \n",
            "[[X_11 X_12 X_13 X_14]\n",
            " [X_21 X_22 X_23 X_24]]\n"
          ]
        }
      ],
      "source": [
        "DV_variables = LpVariable.matrix(\"X\", variable_names, cat = \"Integer\", lowBound= 0 )\n",
        "allocation = np.array(DV_variables).reshape(2,4)\n",
        "print(\"Decision Variable/Allocation Matrix: \")\n",
        "print(allocation)"
      ]
    },
    {
      "cell_type": "code",
      "execution_count": null,
      "metadata": {
        "id": "dK4hhNGFdP4f",
        "outputId": "23e01d25-d44f-4791-b51c-6c5e73e8fc8d"
      },
      "outputs": [
        {
          "name": "stdout",
          "output_type": "stream",
          "text": [
            "X_11 + 3.0*X_12 + 0.5*X_13 + 4.0*X_14 + 2.5*X_21 + 5.0*X_22 + 1.5*X_23 + 2.5*X_24\n",
            "Supply-Demand-Problem:\n",
            "MINIMIZE\n",
            "1.0*X_11 + 3.0*X_12 + 0.5*X_13 + 4.0*X_14 + 2.5*X_21 + 5.0*X_22 + 1.5*X_23 + 2.5*X_24 + 0.0\n",
            "VARIABLES\n",
            "0 <= X_11 Integer\n",
            "0 <= X_12 Integer\n",
            "0 <= X_13 Integer\n",
            "0 <= X_14 Integer\n",
            "0 <= X_21 Integer\n",
            "0 <= X_22 Integer\n",
            "0 <= X_23 Integer\n",
            "0 <= X_24 Integer\n",
            "\n"
          ]
        }
      ],
      "source": [
        "obj_func = lpSum(allocation*cost_matrix)\n",
        "print(obj_func)\n",
        "model +=  obj_func\n",
        "print(model)"
      ]
    },
    {
      "cell_type": "code",
      "execution_count": null,
      "metadata": {
        "id": "4f-wg-LFdP4g",
        "outputId": "b626d9bd-4719-439b-c7ac-f3813770280d"
      },
      "outputs": [
        {
          "name": "stdout",
          "output_type": "stream",
          "text": [
            "X_11 + X_12 + X_13 + X_14 <= 60000\n",
            "X_21 + X_22 + X_23 + X_24 <= 80000\n"
          ]
        }
      ],
      "source": [
        "#Supply Constraints\n",
        "for i in range(n_warehouses):\n",
        "    print(lpSum(allocation[i][j] for j in range(n_customers)) <= warehouse_supply[i])\n",
        "    model += lpSum(allocation[i][j] for j in range(n_customers)) <= warehouse_supply[i] , \"Supply Constraints \" + str(i)"
      ]
    },
    {
      "cell_type": "code",
      "execution_count": null,
      "metadata": {
        "id": "VWr432kZdP4g",
        "outputId": "da90349d-8865-4a76-ea63-b53f3a756abd"
      },
      "outputs": [
        {
          "name": "stdout",
          "output_type": "stream",
          "text": [
            "X_11 + X_21 >= 35000\n",
            "X_12 + X_22 >= 22000\n",
            "X_13 + X_23 >= 18000\n",
            "X_14 + X_24 >= 30000\n"
          ]
        }
      ],
      "source": [
        "# Demand Constraints\n",
        "for j in range(n_customers):\n",
        "    print(lpSum(allocation[i][j] for i in range(n_warehouses)) >= cust_demands[j])\n",
        "    model += lpSum(allocation[i][j] for i in range(n_warehouses)) >= cust_demands[j] , \"Demand Constraints \" + str(j)"
      ]
    },
    {
      "cell_type": "code",
      "execution_count": null,
      "metadata": {
        "id": "MinQ-DRDdP4h",
        "outputId": "91f67dd7-ec4e-4851-8746-3d16c0c76612"
      },
      "outputs": [
        {
          "name": "stdout",
          "output_type": "stream",
          "text": [
            "Supply-Demand-Problem:\n",
            "MINIMIZE\n",
            "1.0*X_11 + 3.0*X_12 + 0.5*X_13 + 4.0*X_14 + 2.5*X_21 + 5.0*X_22 + 1.5*X_23 + 2.5*X_24 + 0.0\n",
            "SUBJECT TO\n",
            "Supply_Constraints_0: X_11 + X_12 + X_13 + X_14 <= 60000\n",
            "\n",
            "Supply_Constraints_1: X_21 + X_22 + X_23 + X_24 <= 80000\n",
            "\n",
            "Demand_Constraints_0: X_11 + X_21 >= 35000\n",
            "\n",
            "Demand_Constraints_1: X_12 + X_22 >= 22000\n",
            "\n",
            "Demand_Constraints_2: X_13 + X_23 >= 18000\n",
            "\n",
            "Demand_Constraints_3: X_14 + X_24 >= 30000\n",
            "\n",
            "VARIABLES\n",
            "0 <= X_11 Integer\n",
            "0 <= X_12 Integer\n",
            "0 <= X_13 Integer\n",
            "0 <= X_14 Integer\n",
            "0 <= X_21 Integer\n",
            "0 <= X_22 Integer\n",
            "0 <= X_23 Integer\n",
            "0 <= X_24 Integer\n",
            "\n"
          ]
        }
      ],
      "source": [
        "print(model)"
      ]
    },
    {
      "cell_type": "code",
      "execution_count": null,
      "metadata": {
        "id": "eyPhAV9cdP4h",
        "outputId": "5687ac24-bf08-4138-a5ed-214750951e27"
      },
      "outputs": [
        {
          "name": "stdout",
          "output_type": "stream",
          "text": [
            "Optimal\n"
          ]
        }
      ],
      "source": [
        "#model.solve()\n",
        "model.solve(PULP_CBC_CMD())\n",
        "\n",
        "status =  LpStatus[model.status]\n",
        "\n",
        "print(status)"
      ]
    },
    {
      "cell_type": "code",
      "execution_count": null,
      "metadata": {
        "id": "hveGipRcdP4h",
        "outputId": "de2d0262-df32-47ee-9451-b75fdb8e9e0d"
      },
      "outputs": [
        {
          "name": "stdout",
          "output_type": "stream",
          "text": [
            "Total Cost: 200000.0\n",
            "X_11 = 35000.0\n",
            "X_12 = 22000.0\n",
            "X_13 = 3000.0\n",
            "X_14 = 0.0\n",
            "X_21 = 0.0\n",
            "X_22 = 0.0\n",
            "X_23 = 15000.0\n",
            "X_24 = 30000.0\n"
          ]
        }
      ],
      "source": [
        "print(\"Total Cost:\", model.objective.value())\n",
        "\n",
        "# Decision Variables\n",
        "\n",
        "for v in model.variables():\n",
        "    try:\n",
        "        print(v.name,\"=\", v.value())\n",
        "    except:\n",
        "        print(\"error couldnt find value\")"
      ]
    },
    {
      "cell_type": "code",
      "execution_count": null,
      "metadata": {
        "id": "C6V8iumKdP4h",
        "outputId": "aaf7d812-7ce7-4b0a-ba56-cef8ae9d23bd"
      },
      "outputs": [
        {
          "name": "stdout",
          "output_type": "stream",
          "text": [
            "Warehouse  1\n",
            "60000.0\n",
            "Warehouse  2\n",
            "45000.0\n"
          ]
        }
      ],
      "source": [
        "# Warehouse 1 and Warehouse 2 required capacity\n",
        "\n",
        "for i in range(n_warehouses):\n",
        "    print(\"Warehouse \", str(i+1))\n",
        "    print(lpSum(allocation[i][j].value() for j in range(n_customers)))"
      ]
    }
  ],
  "metadata": {
    "kernelspec": {
      "display_name": "Python 3 (ipykernel)",
      "language": "python",
      "name": "python3"
    },
    "language_info": {
      "codemirror_mode": {
        "name": "ipython",
        "version": 3
      },
      "file_extension": ".py",
      "mimetype": "text/x-python",
      "name": "python",
      "nbconvert_exporter": "python",
      "pygments_lexer": "ipython3",
      "version": "3.10.5"
    },
    "colab": {
      "provenance": [],
      "include_colab_link": true
    }
  },
  "nbformat": 4,
  "nbformat_minor": 0
}