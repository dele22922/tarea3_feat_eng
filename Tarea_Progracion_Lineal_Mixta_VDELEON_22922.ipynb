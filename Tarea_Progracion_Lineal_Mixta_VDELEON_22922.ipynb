{
  "cells": [
    {
      "cell_type": "markdown",
      "metadata": {
        "id": "view-in-github",
        "colab_type": "text"
      },
      "source": [
        "<a href=\"https://colab.research.google.com/github/dele22922/tarea3_feat_eng/blob/main/Tarea_Progracion_Lineal_Mixta_VDELEON_22922.ipynb\" target=\"_parent\"><img src=\"https://colab.research.google.com/assets/colab-badge.svg\" alt=\"Open In Colab\"/></a>"
      ]
    },
    {
      "cell_type": "markdown",
      "source": [
        "## **Tarea Programación Lineal Mixta VDELEON 22922**\n",
        "## **UVG TIGO**\n",
        "## **Antonio Medrano**\n",
        "## **Business Analytics Models**"
      ],
      "metadata": {
        "id": "PvYAnI3LVlAm"
      },
      "id": "PvYAnI3LVlAm"
    },
    {
      "cell_type": "markdown",
      "source": [
        "## **Carga de Librerias**"
      ],
      "metadata": {
        "id": "ReL8INyuTWpt"
      },
      "id": "ReL8INyuTWpt"
    },
    {
      "cell_type": "code",
      "execution_count": 5,
      "id": "768d41e2",
      "metadata": {
        "id": "768d41e2",
        "colab": {
          "base_uri": "https://localhost:8080/"
        },
        "outputId": "778a4263-d1d7-4272-d447-3123cd1a7111"
      },
      "outputs": [
        {
          "output_type": "stream",
          "name": "stdout",
          "text": [
            "Requirement already satisfied: pulp in /usr/local/lib/python3.10/dist-packages (2.7.0)\n"
          ]
        }
      ],
      "source": [
        "!pip install pulp\n",
        "import numpy as np\n",
        "from pulp import *"
      ]
    },
    {
      "cell_type": "markdown",
      "source": [
        "## **Datos**"
      ],
      "metadata": {
        "id": "P5P6Mr3QTeOH"
      },
      "id": "P5P6Mr3QTeOH"
    },
    {
      "cell_type": "code",
      "execution_count": 6,
      "id": "0890bfa7",
      "metadata": {
        "id": "0890bfa7"
      },
      "outputs": [],
      "source": [
        "## Datos\n",
        "\n",
        "alquiler = np.array([7750,4000,5500])\n",
        "capacidad = np.array([200,250,300])\n",
        "costoTransporteDist1=np.array([170,150,100])\n",
        "costoTransporteDist2=np.array([40,195,240])\n",
        "costoTransporteDist3=np.array([70,100,140])\n",
        "costoTransporteDist4=np.array([160,10,60])\n",
        "Demanda = np.array([100,90,110,60])\n",
        "numAlmacen=len(alquiler)\n",
        "numDistrito=len(Demanda)"
      ]
    },
    {
      "cell_type": "markdown",
      "source": [
        "## **Definicion del Problema**"
      ],
      "metadata": {
        "id": "zO2M6DRNU6Xf"
      },
      "id": "zO2M6DRNU6Xf"
    },
    {
      "cell_type": "code",
      "execution_count": 7,
      "id": "28929d50",
      "metadata": {
        "id": "28929d50"
      },
      "outputs": [],
      "source": [
        "## Problema\n",
        "Problema_costo = LpProblem(\"costo\", LpMinimize)"
      ]
    },
    {
      "cell_type": "markdown",
      "source": [
        "## **Variables de Decisión**"
      ],
      "metadata": {
        "id": "3c-9MY7-U_V2"
      },
      "id": "3c-9MY7-U_V2"
    },
    {
      "cell_type": "code",
      "execution_count": 8,
      "id": "786336d8",
      "metadata": {
        "id": "786336d8"
      },
      "outputs": [],
      "source": [
        "## Variables de Decision\n",
        "numcamionesD1 =  LpVariable.matrix(\"Distrito_1_\", ['A','B','C'],lowBound=0,cat=\"Continuous\")\n",
        "numcamionesD2 =  LpVariable.matrix(\"Distrito_2_\", ['A','B','C'],lowBound=0,cat=\"Continuous\")\n",
        "numcamionesD3 =  LpVariable.matrix(\"Distrito_3_\", ['A','B','C'],lowBound=0,cat=\"Continuous\")\n",
        "numcamionesD4 =  LpVariable.matrix(\"Distrito_4_\", ['A','B','C'],lowBound=0,cat=\"Continuous\")\n",
        "usarAlmacen = LpVariable.matrix(\"Almacen_\",['A','B','C'] , cat=\"Binary\")\n"
      ]
    },
    {
      "cell_type": "markdown",
      "source": [
        "## **Función Objetivo**"
      ],
      "metadata": {
        "id": "89i7UiRJVGSu"
      },
      "id": "89i7UiRJVGSu"
    },
    {
      "cell_type": "code",
      "execution_count": 9,
      "id": "ea1152cf",
      "metadata": {
        "id": "ea1152cf"
      },
      "outputs": [],
      "source": [
        "## Funcion objetivo\n",
        "\n",
        "CostoD1 =  lpSum([costoTransporteDist1[i]*numcamionesD1[i] for i in range(numAlmacen)])\n",
        "CostoD2 =  lpSum([costoTransporteDist2[i]*numcamionesD2[i] for i in range(numAlmacen)])\n",
        "CostoD3 =  lpSum([costoTransporteDist3[i]*numcamionesD3[i] for i in range(numAlmacen)])\n",
        "CostoD4 =  lpSum([costoTransporteDist4[i]*numcamionesD4[i] for i in range(numAlmacen)])\n",
        "CostoAlquilerTot = lpSum([alquiler[i]*usarAlmacen[i] for i in range(numAlmacen)])\n",
        "\n",
        "Problema_costo += CostoD1 + CostoD2 + CostoD3 + CostoD4 + CostoAlquilerTot"
      ]
    },
    {
      "cell_type": "markdown",
      "source": [
        "## **Restricciones**"
      ],
      "metadata": {
        "id": "8nw5DOQ_VMXC"
      },
      "id": "8nw5DOQ_VMXC"
    },
    {
      "cell_type": "code",
      "execution_count": 10,
      "id": "3b7e3263",
      "metadata": {
        "id": "3b7e3263"
      },
      "outputs": [],
      "source": [
        "## Restricciones\n",
        "\n",
        "Problema_costo +=  lpSum([numcamionesD1[i] for i in range(numAlmacen)]) >= Demanda[0]\n",
        "Problema_costo +=  lpSum([numcamionesD2[i] for i in range(numAlmacen)]) >= Demanda[1]\n",
        "Problema_costo +=  lpSum([numcamionesD3[i] for i in range(numAlmacen)]) >= Demanda[2]\n",
        "Problema_costo +=  lpSum([numcamionesD4[i] for i in range(numAlmacen)]) >= Demanda[3]\n",
        "\n",
        "for j in range(numAlmacen):\n",
        "    Problema_costo +=  numcamionesD1[j] + numcamionesD2[j] +numcamionesD3[j] + numcamionesD4[j]<= (lpSum(Demanda)) * usarAlmacen[j]\n"
      ]
    },
    {
      "cell_type": "markdown",
      "source": [
        "## **Modelo**"
      ],
      "metadata": {
        "id": "sgkOc36RVSbG"
      },
      "id": "sgkOc36RVSbG"
    },
    {
      "cell_type": "code",
      "execution_count": 11,
      "id": "faa0f9f3",
      "metadata": {
        "id": "faa0f9f3",
        "outputId": "bd19a897-f5be-484a-f807-0a5111714912",
        "colab": {
          "base_uri": "https://localhost:8080/"
        }
      },
      "outputs": [
        {
          "output_type": "execute_result",
          "data": {
            "text/plain": [
              "costo:\n",
              "MINIMIZE\n",
              "7750*Almacen__A + 4000*Almacen__B + 5500*Almacen__C + 170*Distrito_1__A + 150*Distrito_1__B + 100*Distrito_1__C + 40*Distrito_2__A + 195*Distrito_2__B + 240*Distrito_2__C + 70*Distrito_3__A + 100*Distrito_3__B + 140*Distrito_3__C + 160*Distrito_4__A + 10*Distrito_4__B + 60*Distrito_4__C + 0\n",
              "SUBJECT TO\n",
              "_C1: Distrito_1__A + Distrito_1__B + Distrito_1__C >= 100\n",
              "\n",
              "_C2: Distrito_2__A + Distrito_2__B + Distrito_2__C >= 90\n",
              "\n",
              "_C3: Distrito_3__A + Distrito_3__B + Distrito_3__C >= 110\n",
              "\n",
              "_C4: Distrito_4__A + Distrito_4__B + Distrito_4__C >= 60\n",
              "\n",
              "_C5: - 360 Almacen__A + Distrito_1__A + Distrito_2__A + Distrito_3__A\n",
              " + Distrito_4__A <= 0\n",
              "\n",
              "_C6: - 360 Almacen__B + Distrito_1__B + Distrito_2__B + Distrito_3__B\n",
              " + Distrito_4__B <= 0\n",
              "\n",
              "_C7: - 360 Almacen__C + Distrito_1__C + Distrito_2__C + Distrito_3__C\n",
              " + Distrito_4__C <= 0\n",
              "\n",
              "VARIABLES\n",
              "0 <= Almacen__A <= 1 Integer\n",
              "0 <= Almacen__B <= 1 Integer\n",
              "0 <= Almacen__C <= 1 Integer\n",
              "Distrito_1__A Continuous\n",
              "Distrito_1__B Continuous\n",
              "Distrito_1__C Continuous\n",
              "Distrito_2__A Continuous\n",
              "Distrito_2__B Continuous\n",
              "Distrito_2__C Continuous\n",
              "Distrito_3__A Continuous\n",
              "Distrito_3__B Continuous\n",
              "Distrito_3__C Continuous\n",
              "Distrito_4__A Continuous\n",
              "Distrito_4__B Continuous\n",
              "Distrito_4__C Continuous"
            ]
          },
          "metadata": {},
          "execution_count": 11
        }
      ],
      "source": [
        "Problema_costo"
      ]
    },
    {
      "cell_type": "markdown",
      "source": [
        "## **Solución y Resultados**"
      ],
      "metadata": {
        "id": "ophM_WlxVZQX"
      },
      "id": "ophM_WlxVZQX"
    },
    {
      "cell_type": "code",
      "execution_count": 12,
      "id": "186a71c9",
      "metadata": {
        "id": "186a71c9",
        "outputId": "c88bd80b-e565-4b2a-bdf0-b077c67d05e6",
        "colab": {
          "base_uri": "https://localhost:8080/"
        }
      },
      "outputs": [
        {
          "output_type": "execute_result",
          "data": {
            "text/plain": [
              "1"
            ]
          },
          "metadata": {},
          "execution_count": 12
        }
      ],
      "source": [
        "Problema_costo.solve()"
      ]
    },
    {
      "cell_type": "code",
      "execution_count": 13,
      "id": "9c7f3a44",
      "metadata": {
        "id": "9c7f3a44",
        "outputId": "47fc84a7-5181-4389-9edc-f2ca3926452f",
        "colab": {
          "base_uri": "https://localhost:8080/"
        }
      },
      "outputs": [
        {
          "output_type": "execute_result",
          "data": {
            "text/plain": [
              "38150.0"
            ]
          },
          "metadata": {},
          "execution_count": 13
        }
      ],
      "source": [
        "Problema_costo.objective.value()"
      ]
    },
    {
      "cell_type": "code",
      "execution_count": 14,
      "id": "52ddc1aa",
      "metadata": {
        "id": "52ddc1aa",
        "outputId": "d276b46a-c5ed-4418-8ff0-2f22df2a2df5",
        "colab": {
          "base_uri": "https://localhost:8080/"
        }
      },
      "outputs": [
        {
          "output_type": "stream",
          "name": "stdout",
          "text": [
            "Almacen__A 1.0\n",
            "Almacen__B 0.0\n",
            "Almacen__C 1.0\n",
            "Distrito_1__A 0.0\n",
            "Distrito_1__B 0.0\n",
            "Distrito_1__C 100.0\n",
            "Distrito_2__A 90.0\n",
            "Distrito_2__B 0.0\n",
            "Distrito_2__C 0.0\n",
            "Distrito_3__A 110.0\n",
            "Distrito_3__B 0.0\n",
            "Distrito_3__C 0.0\n",
            "Distrito_4__A 0.0\n",
            "Distrito_4__B 0.0\n",
            "Distrito_4__C 60.0\n"
          ]
        }
      ],
      "source": [
        "for var in Problema_costo.variables():\n",
        "    print(var.name, var.value())"
      ]
    }
  ],
  "metadata": {
    "kernelspec": {
      "display_name": "Python 3 (ipykernel)",
      "language": "python",
      "name": "python3"
    },
    "language_info": {
      "codemirror_mode": {
        "name": "ipython",
        "version": 3
      },
      "file_extension": ".py",
      "mimetype": "text/x-python",
      "name": "python",
      "nbconvert_exporter": "python",
      "pygments_lexer": "ipython3",
      "version": "3.10.9"
    },
    "colab": {
      "provenance": [],
      "include_colab_link": true
    }
  },
  "nbformat": 4,
  "nbformat_minor": 5
}