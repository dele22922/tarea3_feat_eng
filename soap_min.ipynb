{
  "nbformat": 4,
  "nbformat_minor": 0,
  "metadata": {
    "colab": {
      "provenance": [],
      "include_colab_link": true
    },
    "kernelspec": {
      "name": "python3",
      "display_name": "Python 3"
    },
    "language_info": {
      "name": "python"
    }
  },
  "cells": [
    {
      "cell_type": "markdown",
      "metadata": {
        "id": "view-in-github",
        "colab_type": "text"
      },
      "source": [
        "<a href=\"https://colab.research.google.com/github/dele22922/tarea3_feat_eng/blob/main/soap_min.ipynb\" target=\"_parent\"><img src=\"https://colab.research.google.com/assets/colab-badge.svg\" alt=\"Open In Colab\"/></a>"
      ]
    },
    {
      "cell_type": "markdown",
      "source": [
        "## **Problema #2 Programación Lineal Min**\n",
        "Victor Ernesto de Leon Muller Carnet 992992 Tigo/UVG\n",
        "\n",
        "Curso Business Analytics Models\n",
        "\n",
        "Antonio Medrano\n",
        "\n"
      ],
      "metadata": {
        "id": "vc2vUu5hGvpi"
      }
    },
    {
      "cell_type": "code",
      "execution_count": null,
      "metadata": {
        "colab": {
          "base_uri": "https://localhost:8080/"
        },
        "id": "gvrtJcR8Jrv2",
        "outputId": "f60bdc69-af61-4421-8f9f-5d75ec5eae00"
      },
      "outputs": [
        {
          "output_type": "stream",
          "name": "stdout",
          "text": [
            "Collecting pulp\n",
            "  Downloading PuLP-2.7.0-py3-none-any.whl (14.3 MB)\n",
            "\u001b[2K     \u001b[90m━━━━━━━━━━━━━━━━━━━━━━━━━━━━━━━━━━━━━━━━\u001b[0m \u001b[32m14.3/14.3 MB\u001b[0m \u001b[31m61.1 MB/s\u001b[0m eta \u001b[36m0:00:00\u001b[0m\n",
            "\u001b[?25hInstalling collected packages: pulp\n",
            "Successfully installed pulp-2.7.0\n"
          ]
        }
      ],
      "source": [
        "!pip install pulp\n",
        "from pulp import *\n",
        "import numpy as np\n",
        "import pandas as pd"
      ]
    },
    {
      "cell_type": "code",
      "source": [
        "D=pulp.LpVariable('S',lowBound=0)\n",
        "S=pulp.LpVariable('D',lowBound=0)"
      ],
      "metadata": {
        "id": "nRAHySSKOrI0"
      },
      "execution_count": null,
      "outputs": []
    },
    {
      "cell_type": "code",
      "source": [
        "Cost = pulp.LpProblem('Minimum Cost',LpMinimize)\n",
        "Cost+= 2*S+3*D, 'Constraint for cost per product'\n",
        "Cost+= S + D >= 350, 'Constraint for minimum gallons product A + product B'\n",
        "Cost+= S >= 125, 'Constraint for minimum gallons product A'\n",
        "Cost+= 2*S + D <= 600, 'Constraint for available time'\n"
      ],
      "metadata": {
        "colab": {
          "base_uri": "https://localhost:8080/"
        },
        "id": "hKdj1o0vPfxC",
        "outputId": "312ee769-2b46-4ddb-d872-791baec94e74"
      },
      "execution_count": null,
      "outputs": [
        {
          "output_type": "stream",
          "name": "stderr",
          "text": [
            "/usr/local/lib/python3.10/dist-packages/pulp/pulp.py:1352: UserWarning: Spaces are not permitted in the name. Converted to '_'\n",
            "  warnings.warn(\"Spaces are not permitted in the name. Converted to '_'\")\n"
          ]
        }
      ]
    },
    {
      "cell_type": "code",
      "source": [
        "Cost.solve()"
      ],
      "metadata": {
        "colab": {
          "base_uri": "https://localhost:8080/"
        },
        "id": "jvgnsSl0SNA-",
        "outputId": "0054a5ad-c6c5-414c-895e-e5df93f52c6a"
      },
      "execution_count": null,
      "outputs": [
        {
          "output_type": "execute_result",
          "data": {
            "text/plain": [
              "1"
            ]
          },
          "metadata": {},
          "execution_count": 6
        }
      ]
    },
    {
      "cell_type": "code",
      "source": [
        "print('Decision Variable Values:')\n",
        "\n",
        "for variable in Cost.variables():\n",
        "  print(variable.name,'=',variable.varValue)\n",
        "\n",
        "print ('n\\Minimum Cost:')\n",
        "pulp.value(Cost.objective)\n",
        "\n"
      ],
      "metadata": {
        "colab": {
          "base_uri": "https://localhost:8080/"
        },
        "id": "HMa0O8MhSRyF",
        "outputId": "b62a6692-6b3d-4dda-8b3c-7235f421fdc2"
      },
      "execution_count": null,
      "outputs": [
        {
          "output_type": "stream",
          "name": "stdout",
          "text": [
            "Decision Variable Values:\n",
            "D = 250.0\n",
            "S = 100.0\n",
            "n\\Minimum Cost:\n"
          ]
        },
        {
          "output_type": "execute_result",
          "data": {
            "text/plain": [
              "800.0"
            ]
          },
          "metadata": {},
          "execution_count": 7
        }
      ]
    },
    {
      "cell_type": "code",
      "source": [
        "Cost"
      ],
      "metadata": {
        "colab": {
          "base_uri": "https://localhost:8080/"
        },
        "id": "DocmlDRtW4Js",
        "outputId": "0b430f1c-9d25-4630-bc11-95f7d869f53f"
      },
      "execution_count": null,
      "outputs": [
        {
          "output_type": "execute_result",
          "data": {
            "text/plain": [
              "Minimum_Cost:\n",
              "MINIMIZE\n",
              "2*D + 3*S + 0\n",
              "SUBJECT TO\n",
              "Constraint_for_minimum_gallons_product_A___product_B: D + S >= 350\n",
              "\n",
              "Constraint_for_minimum_gallons_product_A: D >= 125\n",
              "\n",
              "Constraint_for_available_time: 2 D + S <= 600\n",
              "\n",
              "VARIABLES\n",
              "D Continuous\n",
              "S Continuous"
            ]
          },
          "metadata": {},
          "execution_count": 8
        }
      ]
    },
    {
      "cell_type": "code",
      "source": [
        "for i in Cost.variables():\n",
        "  print(i.name, i.varValue)"
      ],
      "metadata": {
        "colab": {
          "base_uri": "https://localhost:8080/"
        },
        "id": "1EOya_3eW51A",
        "outputId": "81591a73-4d4d-4219-d773-0640910a9e04"
      },
      "execution_count": null,
      "outputs": [
        {
          "output_type": "stream",
          "name": "stdout",
          "text": [
            "D 250.0\n",
            "S 100.0\n"
          ]
        }
      ]
    },
    {
      "cell_type": "code",
      "source": [],
      "metadata": {
        "id": "WxqeGRNFU64T"
      },
      "execution_count": null,
      "outputs": []
    }
  ]
}