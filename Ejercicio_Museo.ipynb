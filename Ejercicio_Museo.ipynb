{
  "cells": [
    {
      "cell_type": "markdown",
      "metadata": {
        "id": "view-in-github",
        "colab_type": "text"
      },
      "source": [
        "<a href=\"https://colab.research.google.com/github/dele22922/tarea3_feat_eng/blob/main/Ejercicio_Museo.ipynb\" target=\"_parent\"><img src=\"https://colab.research.google.com/assets/colab-badge.svg\" alt=\"Open In Colab\"/></a>"
      ]
    },
    {
      "cell_type": "code",
      "execution_count": 2,
      "metadata": {
        "colab": {
          "base_uri": "https://localhost:8080/"
        },
        "id": "XR7-hmIFN0e0",
        "outputId": "c2901aaf-4124-4a79-dcb6-cf862cafdda8"
      },
      "outputs": [
        {
          "output_type": "stream",
          "name": "stdout",
          "text": [
            "Collecting pulp\n",
            "  Downloading PuLP-2.7.0-py3-none-any.whl (14.3 MB)\n",
            "\u001b[2K     \u001b[90m━━━━━━━━━━━━━━━━━━━━━━━━━━━━━━━━━━━━━━━━\u001b[0m \u001b[32m14.3/14.3 MB\u001b[0m \u001b[31m27.4 MB/s\u001b[0m eta \u001b[36m0:00:00\u001b[0m\n",
            "\u001b[?25hInstalling collected packages: pulp\n",
            "Successfully installed pulp-2.7.0\n"
          ]
        }
      ],
      "source": [
        "## Importar librerias\n",
        "!pip install pulp\n",
        "from pulp import *\n",
        "import numpy as np"
      ]
    },
    {
      "cell_type": "code",
      "execution_count": 3,
      "metadata": {
        "colab": {
          "base_uri": "https://localhost:8080/"
        },
        "id": "c2Lz4DPEN0e2",
        "outputId": "17210b5d-ddb3-48ae-8264-0669c989d8c2"
      },
      "outputs": [
        {
          "output_type": "execute_result",
          "data": {
            "text/plain": [
              "array([[1, 1, 1, 0, 0, 0, 0, 0, 0],\n",
              "       [1, 1, 1, 0, 0, 0, 0, 0, 0],\n",
              "       [1, 1, 1, 1, 1, 0, 0, 0, 0],\n",
              "       [0, 0, 1, 1, 1, 1, 1, 0, 0],\n",
              "       [0, 0, 1, 1, 1, 1, 0, 0, 0],\n",
              "       [0, 0, 0, 1, 1, 1, 1, 1, 0],\n",
              "       [0, 0, 0, 1, 0, 1, 1, 1, 0],\n",
              "       [0, 0, 0, 0, 0, 1, 1, 1, 1],\n",
              "       [0, 0, 0, 0, 0, 0, 0, 1, 1]])"
            ]
          },
          "metadata": {},
          "execution_count": 3
        }
      ],
      "source": [
        "### Definimos la matriz de cobertura\n",
        "\n",
        "m=np.array([[1,1,1,0,0,0,0,0,0],[1,1,1,0,0,0,0,0,0],[1,1,1,1,1,0,0,0,0],[0,0,1,1,1,1,1,0,0],[0,0,1,1,1,1,0,0,0],[0,0,0,1,1,1,1,1,0],[0,0,0,1,0,1,1,1,0],[0,0,0,0,0,1,1,1,1],[0,0,0,0,0,0,0,1,1]])\n",
        "m"
      ]
    },
    {
      "cell_type": "code",
      "execution_count": 4,
      "metadata": {
        "id": "1Co3Nyx9N0e2"
      },
      "outputs": [],
      "source": [
        "## Extraer el numero de nodos de la red que es igual al numero de variables de decision\n",
        "\n",
        "numvar = m.shape[0]"
      ]
    },
    {
      "cell_type": "code",
      "execution_count": 5,
      "metadata": {
        "id": "FDVKBOcpN0e3"
      },
      "outputs": [],
      "source": [
        "## Generar las variables de decision\n",
        "\n",
        "x = LpVariable.matrix('x',range(1,numvar+1),0,None,'Integer')"
      ]
    },
    {
      "cell_type": "code",
      "execution_count": 6,
      "metadata": {
        "id": "c7beWQdCN0e3"
      },
      "outputs": [],
      "source": [
        "## Creamos el problema de optimizacion\n",
        "\n",
        "setcover = LpProblem(\"SetCover\",LpMinimize)"
      ]
    },
    {
      "cell_type": "code",
      "execution_count": 7,
      "metadata": {
        "id": "6umZRzcwN0e3"
      },
      "outputs": [],
      "source": [
        "## Agregar la funcion objetivo\n",
        "\n",
        "setcover += lpSum([x[i] for i in range(numvar)])"
      ]
    },
    {
      "cell_type": "code",
      "execution_count": 8,
      "metadata": {
        "colab": {
          "base_uri": "https://localhost:8080/"
        },
        "id": "P6vtGLDFN0e3",
        "outputId": "0a8653b4-abaf-48cf-dbb4-26e73f3d5279"
      },
      "outputs": [
        {
          "output_type": "execute_result",
          "data": {
            "text/plain": [
              "array([1*x_1 + 1*x_2 + 1*x_3 + 0, 1*x_1 + 1*x_2 + 1*x_3 + 0,\n",
              "       1*x_1 + 1*x_2 + 1*x_3 + 1*x_4 + 1*x_5 + 0,\n",
              "       1*x_3 + 1*x_4 + 1*x_5 + 1*x_6 + 1*x_7 + 0,\n",
              "       1*x_3 + 1*x_4 + 1*x_5 + 1*x_6 + 0,\n",
              "       1*x_4 + 1*x_5 + 1*x_6 + 1*x_7 + 1*x_8 + 0,\n",
              "       1*x_4 + 1*x_6 + 1*x_7 + 1*x_8 + 0,\n",
              "       1*x_6 + 1*x_7 + 1*x_8 + 1*x_9 + 0, 1*x_8 + 1*x_9 + 0], dtype=object)"
            ]
          },
          "metadata": {},
          "execution_count": 8
        }
      ],
      "source": [
        "m.dot(x)"
      ]
    },
    {
      "cell_type": "code",
      "execution_count": 9,
      "metadata": {
        "id": "4zhp_kOcN0e3"
      },
      "outputs": [],
      "source": [
        "for i in m.dot(x):\n",
        "    setcover += i >= 1"
      ]
    },
    {
      "cell_type": "code",
      "execution_count": 10,
      "metadata": {
        "colab": {
          "base_uri": "https://localhost:8080/"
        },
        "id": "f-i3bZSrN0e4",
        "outputId": "a15e1a13-dc37-422a-e54f-0d892144b3ed"
      },
      "outputs": [
        {
          "output_type": "execute_result",
          "data": {
            "text/plain": [
              "SetCover:\n",
              "MINIMIZE\n",
              "1*x_1 + 1*x_2 + 1*x_3 + 1*x_4 + 1*x_5 + 1*x_6 + 1*x_7 + 1*x_8 + 1*x_9 + 0\n",
              "SUBJECT TO\n",
              "_C1: x_1 + x_2 + x_3 >= 1\n",
              "\n",
              "_C2: x_1 + x_2 + x_3 >= 1\n",
              "\n",
              "_C3: x_1 + x_2 + x_3 + x_4 + x_5 >= 1\n",
              "\n",
              "_C4: x_3 + x_4 + x_5 + x_6 + x_7 >= 1\n",
              "\n",
              "_C5: x_3 + x_4 + x_5 + x_6 >= 1\n",
              "\n",
              "_C6: x_4 + x_5 + x_6 + x_7 + x_8 >= 1\n",
              "\n",
              "_C7: x_4 + x_6 + x_7 + x_8 >= 1\n",
              "\n",
              "_C8: x_6 + x_7 + x_8 + x_9 >= 1\n",
              "\n",
              "_C9: x_8 + x_9 >= 1\n",
              "\n",
              "VARIABLES\n",
              "0 <= x_1 Integer\n",
              "0 <= x_2 Integer\n",
              "0 <= x_3 Integer\n",
              "0 <= x_4 Integer\n",
              "0 <= x_5 Integer\n",
              "0 <= x_6 Integer\n",
              "0 <= x_7 Integer\n",
              "0 <= x_8 Integer\n",
              "0 <= x_9 Integer"
            ]
          },
          "metadata": {},
          "execution_count": 10
        }
      ],
      "source": [
        "setcover"
      ]
    },
    {
      "cell_type": "code",
      "execution_count": 11,
      "metadata": {
        "colab": {
          "base_uri": "https://localhost:8080/"
        },
        "id": "8CtfnaN-N0e4",
        "outputId": "1c833fee-29f7-4767-830d-05426a8a5764"
      },
      "outputs": [
        {
          "output_type": "execute_result",
          "data": {
            "text/plain": [
              "1"
            ]
          },
          "metadata": {},
          "execution_count": 11
        }
      ],
      "source": [
        "setcover.solve()"
      ]
    },
    {
      "cell_type": "code",
      "execution_count": 12,
      "metadata": {
        "colab": {
          "base_uri": "https://localhost:8080/"
        },
        "id": "fEzOZkF9N0e4",
        "outputId": "d65b93cb-5ce3-4d08-dc25-e6a18b47730b"
      },
      "outputs": [
        {
          "output_type": "stream",
          "name": "stdout",
          "text": [
            "x_1 0.0\n",
            "x_2 0.0\n",
            "x_3 1.0\n",
            "x_4 0.0\n",
            "x_5 0.0\n",
            "x_6 0.0\n",
            "x_7 0.0\n",
            "x_8 1.0\n",
            "x_9 0.0\n"
          ]
        }
      ],
      "source": [
        "for v in setcover.variables():\n",
        "    print(v, v.varValue)"
      ]
    },
    {
      "cell_type": "markdown",
      "metadata": {
        "id": "NIS225qAN0e5"
      },
      "source": [
        "## Camaras mínimas necesarias en las puertas para vigilar el Museo"
      ]
    },
    {
      "cell_type": "code",
      "execution_count": 65,
      "metadata": {
        "colab": {
          "base_uri": "https://localhost:8080/"
        },
        "id": "UT5D7pCJN0e6",
        "outputId": "51af1a55-08ad-42de-aac6-b3acf4de7175"
      },
      "outputs": [
        {
          "output_type": "execute_result",
          "data": {
            "text/plain": [
              "array([[1, 0, 0, 1, 0, 1, 0, 0, 0, 0, 0, 0, 0],\n",
              "       [0, 0, 0, 0, 0, 1, 0, 1, 0, 0, 0, 1, 0],\n",
              "       [1, 1, 1, 0, 0, 0, 0, 0, 0, 0, 0, 0, 0],\n",
              "       [0, 0, 1, 1, 1, 0, 1, 0, 0, 0, 0, 0, 0],\n",
              "       [0, 0, 0, 0, 0, 1, 1, 1, 1, 0, 0, 0, 0],\n",
              "       [0, 0, 0, 0, 0, 0, 0, 0, 0, 1, 0, 1, 1],\n",
              "       [0, 1, 0, 0, 1, 0, 0, 0, 1, 0, 1, 0, 0],\n",
              "       [0, 0, 0, 0, 0, 0, 0, 0, 0, 0, 1, 0, 1]])"
            ]
          },
          "metadata": {},
          "execution_count": 65
        }
      ],
      "source": [
        "m2 = np.array([[1,0,0,1,0,1,0,0,0,0,0,0,0],[0,0,0,0,0,1,0,1,0,0,0,1,0],[1,1,1,0,0,0,0,0,0,0,0,0,0],[0,0,1,1,1,0,1,0,0,0,0,0,0],[0,0,0,0,0,1,1,1,1,0,0,0,0],[0,0,0,0,0,0,0,0,0,1,0,1,1],[0,1,0,0,1,0,0,0,1,0,1,0,0],[0,0,0,0,0,0,0,0,0,0,1,0,1]])\n",
        "m2"
      ]
    },
    {
      "cell_type": "code",
      "source": [
        "m2= np.array([[]])"
      ],
      "metadata": {
        "id": "K8pCHIjLUxU3"
      },
      "execution_count": 24,
      "outputs": []
    },
    {
      "cell_type": "code",
      "source": [
        "m2"
      ],
      "metadata": {
        "colab": {
          "base_uri": "https://localhost:8080/"
        },
        "id": "7nE0_2tNdZLx",
        "outputId": "bdc251b2-551d-4b8c-fc33-849972e52812"
      },
      "execution_count": 66,
      "outputs": [
        {
          "output_type": "execute_result",
          "data": {
            "text/plain": [
              "array([[1, 0, 0, 1, 0, 1, 0, 0, 0, 0, 0, 0, 0],\n",
              "       [0, 0, 0, 0, 0, 1, 0, 1, 0, 0, 0, 1, 0],\n",
              "       [1, 1, 1, 0, 0, 0, 0, 0, 0, 0, 0, 0, 0],\n",
              "       [0, 0, 1, 1, 1, 0, 1, 0, 0, 0, 0, 0, 0],\n",
              "       [0, 0, 0, 0, 0, 1, 1, 1, 1, 0, 0, 0, 0],\n",
              "       [0, 0, 0, 0, 0, 0, 0, 0, 0, 1, 0, 1, 1],\n",
              "       [0, 1, 0, 0, 1, 0, 0, 0, 1, 0, 1, 0, 0],\n",
              "       [0, 0, 0, 0, 0, 0, 0, 0, 0, 0, 1, 0, 1]])"
            ]
          },
          "metadata": {},
          "execution_count": 66
        }
      ]
    },
    {
      "cell_type": "code",
      "execution_count": 67,
      "metadata": {
        "id": "nM06cYGVN0e6"
      },
      "outputs": [],
      "source": [
        "numvar2 = m2.shape[1]"
      ]
    },
    {
      "cell_type": "code",
      "execution_count": 68,
      "metadata": {
        "id": "LYsFvdFdN0e6"
      },
      "outputs": [],
      "source": [
        "x2 = LpVariable.matrix('x',range(1,numvar2+1),0,None,'Integer')"
      ]
    },
    {
      "cell_type": "code",
      "execution_count": 69,
      "metadata": {
        "id": "qWNwxOwNN0e7"
      },
      "outputs": [],
      "source": [
        "losas = LpProblem(\"Losas\",LpMinimize)"
      ]
    },
    {
      "cell_type": "code",
      "execution_count": 70,
      "metadata": {
        "id": "BmrLFWiNN0e7"
      },
      "outputs": [],
      "source": [
        "losas += lpSum([x2[i] for i in range(numvar2)])"
      ]
    },
    {
      "cell_type": "code",
      "source": [
        "losas"
      ],
      "metadata": {
        "colab": {
          "base_uri": "https://localhost:8080/"
        },
        "id": "w0bRUfnJdTYM",
        "outputId": "ef1e8c19-9663-4903-d8ac-2cf9eb2df12c"
      },
      "execution_count": 71,
      "outputs": [
        {
          "output_type": "execute_result",
          "data": {
            "text/plain": [
              "Losas:\n",
              "MINIMIZE\n",
              "1*x_1 + 1*x_10 + 1*x_11 + 1*x_12 + 1*x_13 + 1*x_2 + 1*x_3 + 1*x_4 + 1*x_5 + 1*x_6 + 1*x_7 + 1*x_8 + 1*x_9 + 0\n",
              "VARIABLES\n",
              "0 <= x_1 Integer\n",
              "0 <= x_10 Integer\n",
              "0 <= x_11 Integer\n",
              "0 <= x_12 Integer\n",
              "0 <= x_13 Integer\n",
              "0 <= x_2 Integer\n",
              "0 <= x_3 Integer\n",
              "0 <= x_4 Integer\n",
              "0 <= x_5 Integer\n",
              "0 <= x_6 Integer\n",
              "0 <= x_7 Integer\n",
              "0 <= x_8 Integer\n",
              "0 <= x_9 Integer"
            ]
          },
          "metadata": {},
          "execution_count": 71
        }
      ]
    },
    {
      "cell_type": "code",
      "execution_count": 72,
      "metadata": {
        "id": "wHpmvaVJN0e7"
      },
      "outputs": [],
      "source": [
        "for i in m2.dot(x2):\n",
        "    losas += i >= 1"
      ]
    },
    {
      "cell_type": "code",
      "execution_count": 73,
      "metadata": {
        "colab": {
          "base_uri": "https://localhost:8080/"
        },
        "id": "ddyuXLG2N0e7",
        "outputId": "5c85c9b7-3ad7-4958-e6ae-a3f11047788d"
      },
      "outputs": [
        {
          "output_type": "execute_result",
          "data": {
            "text/plain": [
              "Losas:\n",
              "MINIMIZE\n",
              "1*x_1 + 1*x_10 + 1*x_11 + 1*x_12 + 1*x_13 + 1*x_2 + 1*x_3 + 1*x_4 + 1*x_5 + 1*x_6 + 1*x_7 + 1*x_8 + 1*x_9 + 0\n",
              "SUBJECT TO\n",
              "_C1: x_1 + x_4 + x_6 >= 1\n",
              "\n",
              "_C2: x_12 + x_6 + x_8 >= 1\n",
              "\n",
              "_C3: x_1 + x_2 + x_3 >= 1\n",
              "\n",
              "_C4: x_3 + x_4 + x_5 + x_7 >= 1\n",
              "\n",
              "_C5: x_6 + x_7 + x_8 + x_9 >= 1\n",
              "\n",
              "_C6: x_10 + x_12 + x_13 >= 1\n",
              "\n",
              "_C7: x_11 + x_2 + x_5 + x_9 >= 1\n",
              "\n",
              "_C8: x_11 + x_13 >= 1\n",
              "\n",
              "VARIABLES\n",
              "0 <= x_1 Integer\n",
              "0 <= x_10 Integer\n",
              "0 <= x_11 Integer\n",
              "0 <= x_12 Integer\n",
              "0 <= x_13 Integer\n",
              "0 <= x_2 Integer\n",
              "0 <= x_3 Integer\n",
              "0 <= x_4 Integer\n",
              "0 <= x_5 Integer\n",
              "0 <= x_6 Integer\n",
              "0 <= x_7 Integer\n",
              "0 <= x_8 Integer\n",
              "0 <= x_9 Integer"
            ]
          },
          "metadata": {},
          "execution_count": 73
        }
      ],
      "source": [
        "losas"
      ]
    },
    {
      "cell_type": "code",
      "execution_count": 74,
      "metadata": {
        "colab": {
          "base_uri": "https://localhost:8080/"
        },
        "id": "Vw55zHIGN0e8",
        "outputId": "bbac5052-1d2a-4a0c-e019-50059f411e7b"
      },
      "outputs": [
        {
          "output_type": "execute_result",
          "data": {
            "text/plain": [
              "1"
            ]
          },
          "metadata": {},
          "execution_count": 74
        }
      ],
      "source": [
        "losas.solve()"
      ]
    },
    {
      "cell_type": "code",
      "execution_count": 75,
      "metadata": {
        "colab": {
          "base_uri": "https://localhost:8080/"
        },
        "id": "pZ1Cr-DxN0e8",
        "outputId": "cd8c5bf4-a432-4150-b7fd-f7e97cd55e05"
      },
      "outputs": [
        {
          "output_type": "stream",
          "name": "stdout",
          "text": [
            "x_1 0.0\n",
            "x_10 0.0\n",
            "x_11 0.0\n",
            "x_12 0.0\n",
            "x_13 1.0\n",
            "x_2 1.0\n",
            "x_3 1.0\n",
            "x_4 0.0\n",
            "x_5 0.0\n",
            "x_6 1.0\n",
            "x_7 0.0\n",
            "x_8 0.0\n",
            "x_9 0.0\n"
          ]
        }
      ],
      "source": [
        "for v in losas.variables():\n",
        "    print(v, v.varValue)"
      ]
    },
    {
      "cell_type": "code",
      "execution_count": null,
      "metadata": {
        "id": "EyhtJcySN0e8"
      },
      "outputs": [],
      "source": []
    }
  ],
  "metadata": {
    "kernelspec": {
      "display_name": "Python 3 (ipykernel)",
      "language": "python",
      "name": "python3"
    },
    "language_info": {
      "codemirror_mode": {
        "name": "ipython",
        "version": 3
      },
      "file_extension": ".py",
      "mimetype": "text/x-python",
      "name": "python",
      "nbconvert_exporter": "python",
      "pygments_lexer": "ipython3",
      "version": "3.10.5"
    },
    "colab": {
      "provenance": [],
      "include_colab_link": true
    }
  },
  "nbformat": 4,
  "nbformat_minor": 0
}