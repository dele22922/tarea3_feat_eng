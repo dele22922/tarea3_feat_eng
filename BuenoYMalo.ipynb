{
  "nbformat": 4,
  "nbformat_minor": 0,
  "metadata": {
    "colab": {
      "provenance": [],
      "include_colab_link": true
    },
    "kernelspec": {
      "name": "python3",
      "display_name": "Python 3"
    },
    "language_info": {
      "name": "python"
    }
  },
  "cells": [
    {
      "cell_type": "markdown",
      "metadata": {
        "id": "view-in-github",
        "colab_type": "text"
      },
      "source": [
        "<a href=\"https://colab.research.google.com/github/dele22922/tarea3_feat_eng/blob/main/BuenoYMalo.ipynb\" target=\"_parent\"><img src=\"https://colab.research.google.com/assets/colab-badge.svg\" alt=\"Open In Colab\"/></a>"
      ]
    },
    {
      "cell_type": "markdown",
      "source": [
        "## Ejemplo de la forma que NO debe hacerse"
      ],
      "metadata": {
        "id": "FQvzlUZL-862"
      }
    },
    {
      "cell_type": "code",
      "execution_count": null,
      "metadata": {
        "colab": {
          "base_uri": "https://localhost:8080/"
        },
        "id": "n9dLMCGiz8F5",
        "outputId": "d5d32a76-ddff-4050-bacd-277fa0c20d8f"
      },
      "outputs": [
        {
          "output_type": "stream",
          "name": "stdout",
          "text": [
            "Collecting pulp\n",
            "  Downloading PuLP-2.7.0-py3-none-any.whl (14.3 MB)\n",
            "\u001b[2K     \u001b[90m━━━━━━━━━━━━━━━━━━━━━━━━━━━━━━━━━━━━━━━━\u001b[0m \u001b[32m14.3/14.3 MB\u001b[0m \u001b[31m53.1 MB/s\u001b[0m eta \u001b[36m0:00:00\u001b[0m\n",
            "\u001b[?25hInstalling collected packages: pulp\n",
            "Successfully installed pulp-2.7.0\n"
          ]
        }
      ],
      "source": [
        "!pip install pulp"
      ]
    },
    {
      "cell_type": "code",
      "source": [
        "from pulp import *"
      ],
      "metadata": {
        "id": "Qwwrf2gFz-1B"
      },
      "execution_count": null,
      "outputs": []
    },
    {
      "cell_type": "code",
      "source": [
        "malo = LpProblem(\"MalEjemplo\", LpMaximize)"
      ],
      "metadata": {
        "id": "gLACys-X0EjP"
      },
      "execution_count": null,
      "outputs": []
    },
    {
      "cell_type": "code",
      "source": [
        "x1 = LpVariable(\"Variable1\", lowBound=0, upBound=None, cat=\"Continuous\")\n",
        "x2 = LpVariable(\"Variable2\", lowBound=0, upBound=None, cat=\"Continuous\")"
      ],
      "metadata": {
        "id": "6011Okp40PUf"
      },
      "execution_count": null,
      "outputs": []
    },
    {
      "cell_type": "code",
      "source": [
        "malo += 3*x1 + 4*x2  ## Función objetivo"
      ],
      "metadata": {
        "id": "SCMxiOZI0aJH"
      },
      "execution_count": null,
      "outputs": []
    },
    {
      "cell_type": "code",
      "source": [
        "malo += x1 + x2 <= 1600\n",
        "malo += x1 >= 500\n",
        "malo += 0.24*x1 + 0.48*x2 <= 480"
      ],
      "metadata": {
        "id": "PP1BBYgX1Edo"
      },
      "execution_count": null,
      "outputs": []
    },
    {
      "cell_type": "code",
      "source": [
        "malo"
      ],
      "metadata": {
        "colab": {
          "base_uri": "https://localhost:8080/"
        },
        "id": "kfCj6q6J1oY9",
        "outputId": "ff9ab17a-04c5-43e6-ee5f-86ea686ebef3"
      },
      "execution_count": null,
      "outputs": [
        {
          "output_type": "execute_result",
          "data": {
            "text/plain": [
              "MalEjemplo:\n",
              "MAXIMIZE\n",
              "3*Variable1 + 4*Variable2 + 0\n",
              "SUBJECT TO\n",
              "_C1: Variable1 + Variable2 <= 1600\n",
              "\n",
              "_C2: Variable1 >= 500\n",
              "\n",
              "_C3: 0.24 Variable1 + 0.48 Variable2 <= 480\n",
              "\n",
              "VARIABLES\n",
              "Variable1 Continuous\n",
              "Variable2 Continuous"
            ]
          },
          "metadata": {},
          "execution_count": 12
        }
      ]
    },
    {
      "cell_type": "code",
      "source": [
        "malo.solve()"
      ],
      "metadata": {
        "colab": {
          "base_uri": "https://localhost:8080/"
        },
        "id": "ho8ZxyRT1rxd",
        "outputId": "24cb4734-3f3e-4eaa-e3af-192094f482b7"
      },
      "execution_count": null,
      "outputs": [
        {
          "output_type": "execute_result",
          "data": {
            "text/plain": [
              "1"
            ]
          },
          "metadata": {},
          "execution_count": 13
        }
      ]
    },
    {
      "cell_type": "code",
      "source": [
        "malo.objective.value()"
      ],
      "metadata": {
        "colab": {
          "base_uri": "https://localhost:8080/"
        },
        "id": "MLWq_nUn2LkF",
        "outputId": "14099181-253a-421c-ac59-934aa8de7ace"
      },
      "execution_count": null,
      "outputs": [
        {
          "output_type": "execute_result",
          "data": {
            "text/plain": [
              "5200.0"
            ]
          },
          "metadata": {},
          "execution_count": 14
        }
      ]
    },
    {
      "cell_type": "code",
      "source": [
        "x1.value()"
      ],
      "metadata": {
        "colab": {
          "base_uri": "https://localhost:8080/"
        },
        "id": "hHXg5xhg2PZP",
        "outputId": "7380b256-982d-4f4a-ff34-36072b1c360e"
      },
      "execution_count": null,
      "outputs": [
        {
          "output_type": "execute_result",
          "data": {
            "text/plain": [
              "1200.0"
            ]
          },
          "metadata": {},
          "execution_count": 15
        }
      ]
    },
    {
      "cell_type": "code",
      "source": [
        "x2.value()"
      ],
      "metadata": {
        "colab": {
          "base_uri": "https://localhost:8080/"
        },
        "id": "JFADB0oj2SZY",
        "outputId": "487b5b4f-073b-4908-8e8e-28fb482e5c33"
      },
      "execution_count": null,
      "outputs": [
        {
          "output_type": "execute_result",
          "data": {
            "text/plain": [
              "400.0"
            ]
          },
          "metadata": {},
          "execution_count": 16
        }
      ]
    },
    {
      "cell_type": "markdown",
      "source": [
        "## Forma correcta de modelar"
      ],
      "metadata": {
        "id": "KwAUNdDi_LvC"
      }
    },
    {
      "cell_type": "code",
      "source": [
        "import numpy as np"
      ],
      "metadata": {
        "id": "OmLyWe9s2T-G"
      },
      "execution_count": null,
      "outputs": []
    },
    {
      "cell_type": "code",
      "source": [
        "coef =  np.array([3,4])\n",
        "mat =  np.array([[1,1],[-1,0],[0.24,0.48]])\n",
        "ld = np.array([1600,-500,480])"
      ],
      "metadata": {
        "id": "7vhcChNc2pp7"
      },
      "execution_count": null,
      "outputs": []
    },
    {
      "cell_type": "code",
      "source": [
        "numvar =  len(coef)\n",
        "numres =  mat.shape[0]"
      ],
      "metadata": {
        "id": "Y34o32DB5HfQ"
      },
      "execution_count": null,
      "outputs": []
    },
    {
      "cell_type": "code",
      "source": [
        "bueno = LpProblem(\"BuenEjemplo\", LpMaximize)"
      ],
      "metadata": {
        "id": "DcFcrd985hMr"
      },
      "execution_count": null,
      "outputs": []
    },
    {
      "cell_type": "code",
      "source": [
        "X =  LpVariable.matrix(\"Variable\",range(numvar),lowBound=0,upBound=None,cat=\"Continuous\")"
      ],
      "metadata": {
        "id": "I048wkFD52dw"
      },
      "execution_count": null,
      "outputs": []
    },
    {
      "cell_type": "code",
      "source": [
        "X"
      ],
      "metadata": {
        "colab": {
          "base_uri": "https://localhost:8080/"
        },
        "id": "l0XVReq46JLP",
        "outputId": "4a536b6a-5467-49db-fdee-ddf5bb1f00d0"
      },
      "execution_count": null,
      "outputs": [
        {
          "output_type": "execute_result",
          "data": {
            "text/plain": [
              "[Variable_0, Variable_1]"
            ]
          },
          "metadata": {},
          "execution_count": 23
        }
      ]
    },
    {
      "cell_type": "code",
      "source": [
        "bueno += lpSum([coef[i]*X[i] for i in range(numvar)]) ## Funcion objetivo"
      ],
      "metadata": {
        "id": "ISdob9YQ6MPo"
      },
      "execution_count": null,
      "outputs": []
    },
    {
      "cell_type": "code",
      "source": [
        "for i in range(numres):\n",
        "    bueno +=  lpSum([mat[i,j]*X[j] for j in range(numvar)]) <= ld[i]"
      ],
      "metadata": {
        "id": "Vv0bjk607Gx9"
      },
      "execution_count": null,
      "outputs": []
    },
    {
      "cell_type": "code",
      "source": [
        "bueno"
      ],
      "metadata": {
        "colab": {
          "base_uri": "https://localhost:8080/"
        },
        "id": "L5TjJejh7W87",
        "outputId": "f1bfc7b2-b4a0-4fb1-9f4e-ff313101b66b"
      },
      "execution_count": null,
      "outputs": [
        {
          "output_type": "execute_result",
          "data": {
            "text/plain": [
              "BuenEjemplo:\n",
              "MAXIMIZE\n",
              "3*Variable_0 + 4*Variable_1 + 0\n",
              "SUBJECT TO\n",
              "_C1: Variable_0 + Variable_1 <= 1600\n",
              "\n",
              "_C2: - Variable_0 <= -500\n",
              "\n",
              "_C3: 0.24 Variable_0 + 0.48 Variable_1 <= 480\n",
              "\n",
              "VARIABLES\n",
              "Variable_0 Continuous\n",
              "Variable_1 Continuous"
            ]
          },
          "metadata": {},
          "execution_count": 27
        }
      ]
    },
    {
      "cell_type": "code",
      "source": [
        "bueno.solve()"
      ],
      "metadata": {
        "colab": {
          "base_uri": "https://localhost:8080/"
        },
        "id": "oKgZrJOQ7hEh",
        "outputId": "94ee4838-7684-4f67-982c-4b9d0e9085f6"
      },
      "execution_count": null,
      "outputs": [
        {
          "output_type": "execute_result",
          "data": {
            "text/plain": [
              "1"
            ]
          },
          "metadata": {},
          "execution_count": 28
        }
      ]
    },
    {
      "cell_type": "code",
      "source": [
        "bueno.objective.value()"
      ],
      "metadata": {
        "colab": {
          "base_uri": "https://localhost:8080/"
        },
        "id": "VGfyuRNI7qdR",
        "outputId": "321df77d-a1db-4067-b54f-25d9689dee11"
      },
      "execution_count": null,
      "outputs": [
        {
          "output_type": "execute_result",
          "data": {
            "text/plain": [
              "5200.0"
            ]
          },
          "metadata": {},
          "execution_count": 29
        }
      ]
    },
    {
      "cell_type": "code",
      "source": [
        "for x in bueno.variables():\n",
        "    print(x.name, x.varValue)"
      ],
      "metadata": {
        "colab": {
          "base_uri": "https://localhost:8080/"
        },
        "id": "i24Fa-JJ7vhZ",
        "outputId": "07b55a9d-6237-4479-9a0d-fa2d367e37ae"
      },
      "execution_count": null,
      "outputs": [
        {
          "output_type": "stream",
          "name": "stdout",
          "text": [
            "Variable_0 1200.0\n",
            "Variable_1 400.0\n"
          ]
        }
      ]
    }
  ]
}