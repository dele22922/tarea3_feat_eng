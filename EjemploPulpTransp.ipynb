{
  "cells": [
    {
      "cell_type": "markdown",
      "metadata": {
        "id": "view-in-github",
        "colab_type": "text"
      },
      "source": [
        "<a href=\"https://colab.research.google.com/github/dele22922/tarea3_feat_eng/blob/main/EjemploPulpTransp.ipynb\" target=\"_parent\"><img src=\"https://colab.research.google.com/assets/colab-badge.svg\" alt=\"Open In Colab\"/></a>"
      ]
    },
    {
      "cell_type": "markdown",
      "metadata": {
        "id": "3FCmKdMF6GW1"
      },
      "source": [
        "You want to minimize the cost of shipping goods from 2 different warehouses to 4 different customers. Each warehouse has a limited supply and each customer has a certain demand. We need to fulfil the demand of the customers by shipping products from given warehouses such that the overall cost of shipping is minimum and we are also able to satisfy the customer demands using limited supply available with each warehouse.\n",
        "![image.png](attachment:image.png)\n",
        "\n",
        "The customer demands and the warehouse availability is as follows.\n",
        "\n",
        "![image-2.png](attachment:image-2.png)"
      ]
    },
    {
      "cell_type": "code",
      "execution_count": null,
      "metadata": {
        "id": "R8PvKpH26GW7"
      },
      "outputs": [],
      "source": [
        "from pulp import *\n",
        "import pandas as pd\n",
        "import numpy as np"
      ]
    },
    {
      "cell_type": "code",
      "execution_count": null,
      "metadata": {
        "id": "TlFN8UCI6GW9"
      },
      "outputs": [],
      "source": [
        "n_warehouses = 2\n",
        "n_customers = 4\n",
        "\n",
        "# Cost Matrix\n",
        "cost_matrix = np.array([[1, 3, 0.5, 4],\n",
        "                       [2.5, 5, 1.5, 2.5]])\n",
        "# Demand Matrix\n",
        "cust_demands = np.array([35000, 22000, 18000, 30000])\n",
        "\n",
        "# Supply Matrix\n",
        "warehouse_supply = np.array([60000, 80000])"
      ]
    },
    {
      "cell_type": "code",
      "execution_count": null,
      "metadata": {
        "id": "xQttVqIY6GW9"
      },
      "outputs": [],
      "source": [
        "model = LpProblem(\"Supply-Demand-Problem\", LpMinimize)"
      ]
    },
    {
      "cell_type": "code",
      "execution_count": null,
      "metadata": {
        "id": "ryWhlYnN6GW-",
        "outputId": "35cf709e-c73a-4562-c58c-d47ae25867ab"
      },
      "outputs": [
        {
          "name": "stdout",
          "output_type": "stream",
          "text": [
            "Variable Indices: ['11', '12', '13', '14', '21', '22', '23', '24']\n"
          ]
        }
      ],
      "source": [
        "variable_names = [str(i)+str(j) for j in range(1, n_customers+1) for i in range(1, n_warehouses+1)]\n",
        "variable_names.sort()\n",
        "print(\"Variable Indices:\", variable_names)"
      ]
    },
    {
      "cell_type": "code",
      "execution_count": null,
      "metadata": {
        "id": "bv2mzrsy6GW-",
        "outputId": "a83ed67d-0e85-4311-fade-692b591ebb45"
      },
      "outputs": [
        {
          "name": "stdout",
          "output_type": "stream",
          "text": [
            "Decision Variable/Allocation Matrix: \n",
            "[[X_11 X_12 X_13 X_14]\n",
            " [X_21 X_22 X_23 X_24]]\n"
          ]
        }
      ],
      "source": [
        "DV_variables = LpVariable.matrix(\"X\", variable_names, cat = \"Integer\", lowBound= 0 )\n",
        "allocation = np.array(DV_variables).reshape(2,4)\n",
        "print(\"Decision Variable/Allocation Matrix: \")\n",
        "print(allocation)"
      ]
    },
    {
      "cell_type": "code",
      "execution_count": null,
      "metadata": {
        "id": "ZmdGBbCm6GW_",
        "outputId": "fb9b68ac-5a19-44ce-f795-04a6c9d3d7df"
      },
      "outputs": [
        {
          "name": "stdout",
          "output_type": "stream",
          "text": [
            "X_11 + 3.0*X_12 + 0.5*X_13 + 4.0*X_14 + 2.5*X_21 + 5.0*X_22 + 1.5*X_23 + 2.5*X_24\n",
            "Supply-Demand-Problem:\n",
            "MINIMIZE\n",
            "1.0*X_11 + 3.0*X_12 + 0.5*X_13 + 4.0*X_14 + 2.5*X_21 + 5.0*X_22 + 1.5*X_23 + 2.5*X_24 + 0.0\n",
            "VARIABLES\n",
            "0 <= X_11 Integer\n",
            "0 <= X_12 Integer\n",
            "0 <= X_13 Integer\n",
            "0 <= X_14 Integer\n",
            "0 <= X_21 Integer\n",
            "0 <= X_22 Integer\n",
            "0 <= X_23 Integer\n",
            "0 <= X_24 Integer\n",
            "\n"
          ]
        }
      ],
      "source": [
        "obj_func = lpSum(allocation*cost_matrix)\n",
        "print(obj_func)\n",
        "model +=  obj_func\n",
        "print(model)"
      ]
    },
    {
      "cell_type": "code",
      "execution_count": null,
      "metadata": {
        "id": "2SKvwRK06GXA",
        "outputId": "e11d39d3-6ad9-4fb6-c8a3-0cd43971a4a4"
      },
      "outputs": [
        {
          "name": "stdout",
          "output_type": "stream",
          "text": [
            "X_11 + X_12 + X_13 + X_14 <= 60000\n",
            "X_21 + X_22 + X_23 + X_24 <= 80000\n"
          ]
        }
      ],
      "source": [
        "#Supply Constraints\n",
        "for i in range(n_warehouses):\n",
        "    print(lpSum(allocation[i][j] for j in range(n_customers)) <= warehouse_supply[i])\n",
        "    model += lpSum(allocation[i][j] for j in range(n_customers)) <= warehouse_supply[i] , \"Supply Constraints \" + str(i)"
      ]
    },
    {
      "cell_type": "code",
      "execution_count": null,
      "metadata": {
        "id": "PVCqeCmF6GXA",
        "outputId": "c3044f6a-781a-4b4d-cdc8-94fcbee7a13a"
      },
      "outputs": [
        {
          "name": "stdout",
          "output_type": "stream",
          "text": [
            "X_11 + X_21 >= 35000\n",
            "X_12 + X_22 >= 22000\n",
            "X_13 + X_23 >= 18000\n",
            "X_14 + X_24 >= 30000\n"
          ]
        }
      ],
      "source": [
        "# Demand Constraints\n",
        "for j in range(n_customers):\n",
        "    print(lpSum(allocation[i][j] for i in range(n_warehouses)) >= cust_demands[j])\n",
        "    model += lpSum(allocation[i][j] for i in range(n_warehouses)) >= cust_demands[j] , \"Demand Constraints \" + str(j)"
      ]
    },
    {
      "cell_type": "code",
      "execution_count": null,
      "metadata": {
        "id": "W9a0QVXN6GXB",
        "outputId": "5c1e542d-cadb-450c-8452-18885abfcdf0"
      },
      "outputs": [
        {
          "name": "stdout",
          "output_type": "stream",
          "text": [
            "Supply-Demand-Problem:\n",
            "MINIMIZE\n",
            "1.0*X_11 + 3.0*X_12 + 0.5*X_13 + 4.0*X_14 + 2.5*X_21 + 5.0*X_22 + 1.5*X_23 + 2.5*X_24 + 0.0\n",
            "SUBJECT TO\n",
            "Supply_Constraints_0: X_11 + X_12 + X_13 + X_14 <= 60000\n",
            "\n",
            "Supply_Constraints_1: X_21 + X_22 + X_23 + X_24 <= 80000\n",
            "\n",
            "Demand_Constraints_0: X_11 + X_21 >= 35000\n",
            "\n",
            "Demand_Constraints_1: X_12 + X_22 >= 22000\n",
            "\n",
            "Demand_Constraints_2: X_13 + X_23 >= 18000\n",
            "\n",
            "Demand_Constraints_3: X_14 + X_24 >= 30000\n",
            "\n",
            "VARIABLES\n",
            "0 <= X_11 Integer\n",
            "0 <= X_12 Integer\n",
            "0 <= X_13 Integer\n",
            "0 <= X_14 Integer\n",
            "0 <= X_21 Integer\n",
            "0 <= X_22 Integer\n",
            "0 <= X_23 Integer\n",
            "0 <= X_24 Integer\n",
            "\n"
          ]
        }
      ],
      "source": [
        "print(model)"
      ]
    },
    {
      "cell_type": "code",
      "execution_count": null,
      "metadata": {
        "id": "Fvrb9Flb6GXC",
        "outputId": "28131e23-cafc-4ac3-e96a-b3cb075d251a"
      },
      "outputs": [
        {
          "name": "stdout",
          "output_type": "stream",
          "text": [
            "Optimal\n"
          ]
        }
      ],
      "source": [
        "#model.solve()\n",
        "model.solve(PULP_CBC_CMD())\n",
        "\n",
        "status =  LpStatus[model.status]\n",
        "\n",
        "print(status)"
      ]
    },
    {
      "cell_type": "code",
      "execution_count": null,
      "metadata": {
        "id": "_ZAS5KQm6GXC",
        "outputId": "9995464f-e993-4fde-b0c0-0ff723341eba"
      },
      "outputs": [
        {
          "name": "stdout",
          "output_type": "stream",
          "text": [
            "Total Cost: 200000.0\n",
            "X_11 = 35000.0\n",
            "X_12 = 22000.0\n",
            "X_13 = 3000.0\n",
            "X_14 = 0.0\n",
            "X_21 = 0.0\n",
            "X_22 = 0.0\n",
            "X_23 = 15000.0\n",
            "X_24 = 30000.0\n"
          ]
        }
      ],
      "source": [
        "print(\"Total Cost:\", model.objective.value())\n",
        "\n",
        "# Decision Variables\n",
        "\n",
        "for v in model.variables():\n",
        "    try:\n",
        "        print(v.name,\"=\", v.value())\n",
        "    except:\n",
        "        print(\"error couldnt find value\")"
      ]
    },
    {
      "cell_type": "code",
      "execution_count": null,
      "metadata": {
        "id": "JpoEEc736GXC",
        "outputId": "7c4c62fc-912a-42de-f1a4-e6864b0b636e"
      },
      "outputs": [
        {
          "name": "stdout",
          "output_type": "stream",
          "text": [
            "Warehouse  1\n",
            "60000.0\n",
            "Warehouse  2\n",
            "45000.0\n"
          ]
        }
      ],
      "source": [
        "# Warehouse 1 and Warehouse 2 required capacity\n",
        "\n",
        "for i in range(n_warehouses):\n",
        "    print(\"Warehouse \", str(i+1))\n",
        "    print(lpSum(allocation[i][j].value() for j in range(n_customers)))"
      ]
    }
  ],
  "metadata": {
    "kernelspec": {
      "display_name": "Python 3 (ipykernel)",
      "language": "python",
      "name": "python3"
    },
    "language_info": {
      "codemirror_mode": {
        "name": "ipython",
        "version": 3
      },
      "file_extension": ".py",
      "mimetype": "text/x-python",
      "name": "python",
      "nbconvert_exporter": "python",
      "pygments_lexer": "ipython3",
      "version": "3.10.5"
    },
    "colab": {
      "provenance": [],
      "include_colab_link": true
    }
  },
  "nbformat": 4,
  "nbformat_minor": 0
}