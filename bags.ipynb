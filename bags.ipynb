{
  "nbformat": 4,
  "nbformat_minor": 0,
  "metadata": {
    "colab": {
      "provenance": [],
      "include_colab_link": true
    },
    "kernelspec": {
      "name": "python3",
      "display_name": "Python 3"
    },
    "language_info": {
      "name": "python"
    }
  },
  "cells": [
    {
      "cell_type": "markdown",
      "metadata": {
        "id": "view-in-github",
        "colab_type": "text"
      },
      "source": [
        "<a href=\"https://colab.research.google.com/github/dele22922/tarea3_feat_eng/blob/main/bags.ipynb\" target=\"_parent\"><img src=\"https://colab.research.google.com/assets/colab-badge.svg\" alt=\"Open In Colab\"/></a>"
      ]
    },
    {
      "cell_type": "code",
      "execution_count": 1,
      "metadata": {
        "colab": {
          "base_uri": "https://localhost:8080/"
        },
        "id": "gvrtJcR8Jrv2",
        "outputId": "784eb33c-830b-4cd0-d6aa-e2a4a64a0a09"
      },
      "outputs": [
        {
          "output_type": "stream",
          "name": "stdout",
          "text": [
            "Collecting pulp\n",
            "  Downloading PuLP-2.7.0-py3-none-any.whl (14.3 MB)\n",
            "\u001b[2K     \u001b[90m━━━━━━━━━━━━━━━━━━━━━━━━━━━━━━━━━━━━━━━━\u001b[0m \u001b[32m14.3/14.3 MB\u001b[0m \u001b[31m74.0 MB/s\u001b[0m eta \u001b[36m0:00:00\u001b[0m\n",
            "\u001b[?25hInstalling collected packages: pulp\n",
            "Successfully installed pulp-2.7.0\n"
          ]
        }
      ],
      "source": [
        "!pip install pulp\n",
        "from pulp import *\n",
        "import numpy as np\n",
        "import pandas as pd"
      ]
    },
    {
      "cell_type": "code",
      "source": [
        "D=pulp.LpVariable('D',lowBound=0)\n",
        "S=pulp.LpVariable('S',lowBound=0)"
      ],
      "metadata": {
        "id": "nRAHySSKOrI0"
      },
      "execution_count": 2,
      "outputs": []
    },
    {
      "cell_type": "code",
      "source": [
        "Profit = pulp.LpProblem('Maximum Profit',LpMaximize)\n",
        "Profit+= 10*S+9*D\n",
        "Profit+= 0.7*S + D <= 630, 'Constraint for cutting and dyeing'\n",
        "Profit+= 0.5*S + 0.8333333*D <= 600, 'Constraint for sewing'\n",
        "Profit+= 1*S + 0.666667*D <= 708, 'Constraint for finishing'\n",
        "Profit+= 0.1*S + 0.25*D <= 135, 'Constraint for inspect and pack'\n"
      ],
      "metadata": {
        "id": "hKdj1o0vPfxC"
      },
      "execution_count": 8,
      "outputs": []
    },
    {
      "cell_type": "code",
      "source": [
        "Profit.solve()"
      ],
      "metadata": {
        "id": "jvgnsSl0SNA-",
        "outputId": "8a580ea9-cabc-44fc-c1ec-0c23d19c43c3",
        "colab": {
          "base_uri": "https://localhost:8080/"
        }
      },
      "execution_count": 9,
      "outputs": [
        {
          "output_type": "execute_result",
          "data": {
            "text/plain": [
              "1"
            ]
          },
          "metadata": {},
          "execution_count": 9
        }
      ]
    },
    {
      "cell_type": "code",
      "source": [
        "print('Decision Variable Values:')\n",
        "\n",
        "for variable in Profit.variables():\n",
        "  print(variable.name,'=',variable.varValue)\n",
        "\n",
        "print ('n\\Maximum Profit:')\n",
        "pulp.value(Profit.objective)\n",
        "\n"
      ],
      "metadata": {
        "id": "HMa0O8MhSRyF",
        "outputId": "d0bcf332-4f5d-49c8-ee6a-ebec0bfbc0e3",
        "colab": {
          "base_uri": "https://localhost:8080/"
        }
      },
      "execution_count": 11,
      "outputs": [
        {
          "output_type": "stream",
          "name": "stdout",
          "text": [
            "Decision Variable Values:\n",
            "D = 252.00011\n",
            "S = 539.99984\n",
            "n\\Maximum Profit:\n"
          ]
        },
        {
          "output_type": "execute_result",
          "data": {
            "text/plain": [
              "7667.999389999999"
            ]
          },
          "metadata": {},
          "execution_count": 11
        }
      ]
    },
    {
      "cell_type": "code",
      "source": [
        "Profit"
      ],
      "metadata": {
        "id": "DocmlDRtW4Js",
        "outputId": "ac581842-3cc1-4d91-9ee6-6e470d734997",
        "colab": {
          "base_uri": "https://localhost:8080/"
        }
      },
      "execution_count": 12,
      "outputs": [
        {
          "output_type": "execute_result",
          "data": {
            "text/plain": [
              "Maximum_Profit:\n",
              "MAXIMIZE\n",
              "9*D + 10*S + 0\n",
              "SUBJECT TO\n",
              "Constraint_for_cutting_and_dyeing: D + 0.7 S <= 630\n",
              "\n",
              "Constraint_for_sewing: 0.8333333 D + 0.5 S <= 600\n",
              "\n",
              "Constraint_for_finishing: 0.666667 D + S <= 708\n",
              "\n",
              "Constraint_for_inspect_and_pack: 0.25 D + 0.1 S <= 135\n",
              "\n",
              "VARIABLES\n",
              "D Continuous\n",
              "S Continuous"
            ]
          },
          "metadata": {},
          "execution_count": 12
        }
      ]
    },
    {
      "cell_type": "code",
      "source": [
        "for i in Profit.variables():\n",
        "  print(i.name, i.varValue)"
      ],
      "metadata": {
        "id": "1EOya_3eW51A",
        "outputId": "8d174c39-dcb5-4a52-f915-f2893970c2c7",
        "colab": {
          "base_uri": "https://localhost:8080/"
        }
      },
      "execution_count": 13,
      "outputs": [
        {
          "output_type": "stream",
          "name": "stdout",
          "text": [
            "D 252.00011\n",
            "S 539.99984\n"
          ]
        }
      ]
    },
    {
      "cell_type": "code",
      "source": [],
      "metadata": {
        "id": "WxqeGRNFU64T"
      },
      "execution_count": null,
      "outputs": []
    }
  ]
}