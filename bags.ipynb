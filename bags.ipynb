{
  "nbformat": 4,
  "nbformat_minor": 0,
  "metadata": {
    "colab": {
      "provenance": [],
      "include_colab_link": true
    },
    "kernelspec": {
      "name": "python3",
      "display_name": "Python 3"
    },
    "language_info": {
      "name": "python"
    }
  },
  "cells": [
    {
      "cell_type": "markdown",
      "metadata": {
        "id": "view-in-github",
        "colab_type": "text"
      },
      "source": [
        "<a href=\"https://colab.research.google.com/github/dele22922/tarea3_feat_eng/blob/main/bags.ipynb\" target=\"_parent\"><img src=\"https://colab.research.google.com/assets/colab-badge.svg\" alt=\"Open In Colab\"/></a>"
      ]
    },
    {
      "cell_type": "markdown",
      "source": [
        "## **Problema #1 Programación Lineal Max**\n",
        "Victor Ernesto de Leon Muller Carnet 992992 Tigo/UVG\n",
        "\n",
        "Curso Business Analytics Models\n",
        "\n",
        "Antonio Medrano\n",
        "\n"
      ],
      "metadata": {
        "id": "vc2vUu5hGvpi"
      }
    },
    {
      "cell_type": "code",
      "execution_count": 1,
      "metadata": {
        "colab": {
          "base_uri": "https://localhost:8080/"
        },
        "id": "gvrtJcR8Jrv2",
        "outputId": "f36c5d12-df19-4590-d77a-a7b89ac97b81"
      },
      "outputs": [
        {
          "output_type": "stream",
          "name": "stdout",
          "text": [
            "Collecting pulp\n",
            "  Downloading PuLP-2.7.0-py3-none-any.whl (14.3 MB)\n",
            "\u001b[2K     \u001b[90m━━━━━━━━━━━━━━━━━━━━━━━━━━━━━━━━━━━━━━━━\u001b[0m \u001b[32m14.3/14.3 MB\u001b[0m \u001b[31m67.9 MB/s\u001b[0m eta \u001b[36m0:00:00\u001b[0m\n",
            "\u001b[?25hInstalling collected packages: pulp\n",
            "Successfully installed pulp-2.7.0\n"
          ]
        }
      ],
      "source": [
        "!pip install pulp\n",
        "from pulp import *\n",
        "import numpy as np\n",
        "import pandas as pd"
      ]
    },
    {
      "cell_type": "code",
      "source": [
        "D=pulp.LpVariable('D',lowBound=0)\n",
        "S=pulp.LpVariable('S',lowBound=0)"
      ],
      "metadata": {
        "id": "nRAHySSKOrI0"
      },
      "execution_count": 2,
      "outputs": []
    },
    {
      "cell_type": "code",
      "source": [
        "Profit = pulp.LpProblem('Maximum Profit',LpMaximize)\n",
        "Profit+= 10*S+9*D\n",
        "Profit+= 0.7*S + D <= 630, 'Constraint for cutting and dyeing'\n",
        "Profit+= 0.5*S + 0.8333333*D <= 600, 'Constraint for sewing'\n",
        "Profit+= 1*S + 0.666667*D <= 708, 'Constraint for finishing'\n",
        "Profit+= 0.1*S + 0.25*D <= 135, 'Constraint for inspect and pack'\n"
      ],
      "metadata": {
        "colab": {
          "base_uri": "https://localhost:8080/"
        },
        "id": "hKdj1o0vPfxC",
        "outputId": "cf43ee68-60a5-4544-eb8a-929adfc386cd"
      },
      "execution_count": 3,
      "outputs": [
        {
          "output_type": "stream",
          "name": "stderr",
          "text": [
            "/usr/local/lib/python3.10/dist-packages/pulp/pulp.py:1352: UserWarning: Spaces are not permitted in the name. Converted to '_'\n",
            "  warnings.warn(\"Spaces are not permitted in the name. Converted to '_'\")\n"
          ]
        }
      ]
    },
    {
      "cell_type": "code",
      "source": [
        "Profit.solve()"
      ],
      "metadata": {
        "colab": {
          "base_uri": "https://localhost:8080/"
        },
        "id": "jvgnsSl0SNA-",
        "outputId": "8897931f-1724-4c58-b760-7b4b080f4e0c"
      },
      "execution_count": 4,
      "outputs": [
        {
          "output_type": "execute_result",
          "data": {
            "text/plain": [
              "1"
            ]
          },
          "metadata": {},
          "execution_count": 4
        }
      ]
    },
    {
      "cell_type": "code",
      "source": [
        "print('Decision Variable Values:')\n",
        "\n",
        "for variable in Profit.variables():\n",
        "  print(variable.name,'=',variable.varValue)\n",
        "\n",
        "print ('n\\Maximum Profit:')\n",
        "pulp.value(Profit.objective)\n",
        "\n"
      ],
      "metadata": {
        "colab": {
          "base_uri": "https://localhost:8080/"
        },
        "id": "HMa0O8MhSRyF",
        "outputId": "15e82ecc-ec50-4b3b-acf2-f656dce68775"
      },
      "execution_count": 5,
      "outputs": [
        {
          "output_type": "stream",
          "name": "stdout",
          "text": [
            "Decision Variable Values:\n",
            "D = 252.00011\n",
            "S = 539.99984\n",
            "n\\Maximum Profit:\n"
          ]
        },
        {
          "output_type": "execute_result",
          "data": {
            "text/plain": [
              "7667.999389999999"
            ]
          },
          "metadata": {},
          "execution_count": 5
        }
      ]
    },
    {
      "cell_type": "code",
      "source": [
        "Profit"
      ],
      "metadata": {
        "colab": {
          "base_uri": "https://localhost:8080/"
        },
        "id": "DocmlDRtW4Js",
        "outputId": "0e43f9cb-5596-45af-d23b-2e1bc1a6b582"
      },
      "execution_count": 6,
      "outputs": [
        {
          "output_type": "execute_result",
          "data": {
            "text/plain": [
              "Maximum_Profit:\n",
              "MAXIMIZE\n",
              "9*D + 10*S + 0\n",
              "SUBJECT TO\n",
              "Constraint_for_cutting_and_dyeing: D + 0.7 S <= 630\n",
              "\n",
              "Constraint_for_sewing: 0.8333333 D + 0.5 S <= 600\n",
              "\n",
              "Constraint_for_finishing: 0.666667 D + S <= 708\n",
              "\n",
              "Constraint_for_inspect_and_pack: 0.25 D + 0.1 S <= 135\n",
              "\n",
              "VARIABLES\n",
              "D Continuous\n",
              "S Continuous"
            ]
          },
          "metadata": {},
          "execution_count": 6
        }
      ]
    },
    {
      "cell_type": "code",
      "source": [
        "for i in Profit.variables():\n",
        "  print(i.name, i.varValue)"
      ],
      "metadata": {
        "colab": {
          "base_uri": "https://localhost:8080/"
        },
        "id": "1EOya_3eW51A",
        "outputId": "cb503868-5267-4908-8734-5f81552467eb"
      },
      "execution_count": 7,
      "outputs": [
        {
          "output_type": "stream",
          "name": "stdout",
          "text": [
            "D 252.00011\n",
            "S 539.99984\n"
          ]
        }
      ]
    },
    {
      "cell_type": "code",
      "source": [],
      "metadata": {
        "id": "WxqeGRNFU64T"
      },
      "execution_count": null,
      "outputs": []
    }
  ]
}