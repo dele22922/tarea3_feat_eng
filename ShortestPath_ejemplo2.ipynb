{
  "cells": [
    {
      "cell_type": "markdown",
      "metadata": {
        "id": "view-in-github",
        "colab_type": "text"
      },
      "source": [
        "<a href=\"https://colab.research.google.com/github/dele22922/tarea3_feat_eng/blob/main/ShortestPath_ejemplo2.ipynb\" target=\"_parent\"><img src=\"https://colab.research.google.com/assets/colab-badge.svg\" alt=\"Open In Colab\"/></a>"
      ]
    },
    {
      "cell_type": "markdown",
      "id": "0a0ba01a",
      "metadata": {
        "id": "0a0ba01a"
      },
      "source": [
        "## Modelo de la Ruta Más Corta\n",
        "\n",
        "### Calcula la ruta mas corta entre 2 nodos de una red minimizando el peso de los arcos"
      ]
    },
    {
      "cell_type": "code",
      "execution_count": 1,
      "id": "d2df0ea6",
      "metadata": {
        "id": "d2df0ea6"
      },
      "outputs": [],
      "source": [
        "import networkx as nx\n",
        "import pandas as pd"
      ]
    },
    {
      "cell_type": "code",
      "execution_count": 23,
      "id": "97730942",
      "metadata": {
        "id": "97730942"
      },
      "outputs": [],
      "source": [
        "## Los datos pueden estar en forma de una tabla que contiene los arcos, indicando el nodo de inicio, el nodo final\n",
        "## y la distancia entre ambos.  Vamos a usar un ejemplo de distancias entre ciudades de EE.UU.\n",
        "\n",
        "#directorio = 'c:/users/jamed/downloads/'\n",
        "#dist = pd.read_excel(directorio + \"roadtrip.xlsx\")\n",
        "matdis = pd.read_excel(\"EjRutaMasCorta2.xlsx\")"
      ]
    },
    {
      "cell_type": "code",
      "execution_count": 24,
      "id": "b8adc3de",
      "metadata": {
        "colab": {
          "base_uri": "https://localhost:8080/",
          "height": 206
        },
        "id": "b8adc3de",
        "outputId": "283645fb-72d5-49bb-d5bd-db5c5ce9572e"
      },
      "outputs": [
        {
          "output_type": "execute_result",
          "data": {
            "text/plain": [
              "   LOC   ING   S&L   SGT   BRH  BOH  CUB  AKK  AND  TOL  NUB  MCD  CAL  GTS  \\\n",
              "0  ING     0  1200  1400  1100    0    0    0    0    0    0    0    0    0   \n",
              "1  S&L  1200     0     0     0  550  350  750    0    0    0    0    0    0   \n",
              "2  SGT  1400     0     0     0    0  100    0  500    0    0    0    0    0   \n",
              "3  BRH  1100     0     0     0   50    0  950  350    0    0    0    0    0   \n",
              "4  BOH     0   550     0    50    0    0    0    0  240    0    0    0    0   \n",
              "\n",
              "   BOK  \n",
              "0    0  \n",
              "1    0  \n",
              "2    0  \n",
              "3    0  \n",
              "4    0  "
            ],
            "text/html": [
              "\n",
              "\n",
              "  <div id=\"df-87c46859-c55b-4d92-8e36-2d68699b0605\">\n",
              "    <div class=\"colab-df-container\">\n",
              "      <div>\n",
              "<style scoped>\n",
              "    .dataframe tbody tr th:only-of-type {\n",
              "        vertical-align: middle;\n",
              "    }\n",
              "\n",
              "    .dataframe tbody tr th {\n",
              "        vertical-align: top;\n",
              "    }\n",
              "\n",
              "    .dataframe thead th {\n",
              "        text-align: right;\n",
              "    }\n",
              "</style>\n",
              "<table border=\"1\" class=\"dataframe\">\n",
              "  <thead>\n",
              "    <tr style=\"text-align: right;\">\n",
              "      <th></th>\n",
              "      <th>LOC</th>\n",
              "      <th>ING</th>\n",
              "      <th>S&amp;L</th>\n",
              "      <th>SGT</th>\n",
              "      <th>BRH</th>\n",
              "      <th>BOH</th>\n",
              "      <th>CUB</th>\n",
              "      <th>AKK</th>\n",
              "      <th>AND</th>\n",
              "      <th>TOL</th>\n",
              "      <th>NUB</th>\n",
              "      <th>MCD</th>\n",
              "      <th>CAL</th>\n",
              "      <th>GTS</th>\n",
              "      <th>BOK</th>\n",
              "    </tr>\n",
              "  </thead>\n",
              "  <tbody>\n",
              "    <tr>\n",
              "      <th>0</th>\n",
              "      <td>ING</td>\n",
              "      <td>0</td>\n",
              "      <td>1200</td>\n",
              "      <td>1400</td>\n",
              "      <td>1100</td>\n",
              "      <td>0</td>\n",
              "      <td>0</td>\n",
              "      <td>0</td>\n",
              "      <td>0</td>\n",
              "      <td>0</td>\n",
              "      <td>0</td>\n",
              "      <td>0</td>\n",
              "      <td>0</td>\n",
              "      <td>0</td>\n",
              "      <td>0</td>\n",
              "    </tr>\n",
              "    <tr>\n",
              "      <th>1</th>\n",
              "      <td>S&amp;L</td>\n",
              "      <td>1200</td>\n",
              "      <td>0</td>\n",
              "      <td>0</td>\n",
              "      <td>0</td>\n",
              "      <td>550</td>\n",
              "      <td>350</td>\n",
              "      <td>750</td>\n",
              "      <td>0</td>\n",
              "      <td>0</td>\n",
              "      <td>0</td>\n",
              "      <td>0</td>\n",
              "      <td>0</td>\n",
              "      <td>0</td>\n",
              "      <td>0</td>\n",
              "    </tr>\n",
              "    <tr>\n",
              "      <th>2</th>\n",
              "      <td>SGT</td>\n",
              "      <td>1400</td>\n",
              "      <td>0</td>\n",
              "      <td>0</td>\n",
              "      <td>0</td>\n",
              "      <td>0</td>\n",
              "      <td>100</td>\n",
              "      <td>0</td>\n",
              "      <td>500</td>\n",
              "      <td>0</td>\n",
              "      <td>0</td>\n",
              "      <td>0</td>\n",
              "      <td>0</td>\n",
              "      <td>0</td>\n",
              "      <td>0</td>\n",
              "    </tr>\n",
              "    <tr>\n",
              "      <th>3</th>\n",
              "      <td>BRH</td>\n",
              "      <td>1100</td>\n",
              "      <td>0</td>\n",
              "      <td>0</td>\n",
              "      <td>0</td>\n",
              "      <td>50</td>\n",
              "      <td>0</td>\n",
              "      <td>950</td>\n",
              "      <td>350</td>\n",
              "      <td>0</td>\n",
              "      <td>0</td>\n",
              "      <td>0</td>\n",
              "      <td>0</td>\n",
              "      <td>0</td>\n",
              "      <td>0</td>\n",
              "    </tr>\n",
              "    <tr>\n",
              "      <th>4</th>\n",
              "      <td>BOH</td>\n",
              "      <td>0</td>\n",
              "      <td>550</td>\n",
              "      <td>0</td>\n",
              "      <td>50</td>\n",
              "      <td>0</td>\n",
              "      <td>0</td>\n",
              "      <td>0</td>\n",
              "      <td>0</td>\n",
              "      <td>240</td>\n",
              "      <td>0</td>\n",
              "      <td>0</td>\n",
              "      <td>0</td>\n",
              "      <td>0</td>\n",
              "      <td>0</td>\n",
              "    </tr>\n",
              "  </tbody>\n",
              "</table>\n",
              "</div>\n",
              "      <button class=\"colab-df-convert\" onclick=\"convertToInteractive('df-87c46859-c55b-4d92-8e36-2d68699b0605')\"\n",
              "              title=\"Convert this dataframe to an interactive table.\"\n",
              "              style=\"display:none;\">\n",
              "\n",
              "  <svg xmlns=\"http://www.w3.org/2000/svg\" height=\"24px\"viewBox=\"0 0 24 24\"\n",
              "       width=\"24px\">\n",
              "    <path d=\"M0 0h24v24H0V0z\" fill=\"none\"/>\n",
              "    <path d=\"M18.56 5.44l.94 2.06.94-2.06 2.06-.94-2.06-.94-.94-2.06-.94 2.06-2.06.94zm-11 1L8.5 8.5l.94-2.06 2.06-.94-2.06-.94L8.5 2.5l-.94 2.06-2.06.94zm10 10l.94 2.06.94-2.06 2.06-.94-2.06-.94-.94-2.06-.94 2.06-2.06.94z\"/><path d=\"M17.41 7.96l-1.37-1.37c-.4-.4-.92-.59-1.43-.59-.52 0-1.04.2-1.43.59L10.3 9.45l-7.72 7.72c-.78.78-.78 2.05 0 2.83L4 21.41c.39.39.9.59 1.41.59.51 0 1.02-.2 1.41-.59l7.78-7.78 2.81-2.81c.8-.78.8-2.07 0-2.86zM5.41 20L4 18.59l7.72-7.72 1.47 1.35L5.41 20z\"/>\n",
              "  </svg>\n",
              "      </button>\n",
              "\n",
              "\n",
              "\n",
              "    <div id=\"df-f87df2de-59eb-4ac4-a41e-8e5fa960444f\">\n",
              "      <button class=\"colab-df-quickchart\" onclick=\"quickchart('df-f87df2de-59eb-4ac4-a41e-8e5fa960444f')\"\n",
              "              title=\"Suggest charts.\"\n",
              "              style=\"display:none;\">\n",
              "\n",
              "<svg xmlns=\"http://www.w3.org/2000/svg\" height=\"24px\"viewBox=\"0 0 24 24\"\n",
              "     width=\"24px\">\n",
              "    <g>\n",
              "        <path d=\"M19 3H5c-1.1 0-2 .9-2 2v14c0 1.1.9 2 2 2h14c1.1 0 2-.9 2-2V5c0-1.1-.9-2-2-2zM9 17H7v-7h2v7zm4 0h-2V7h2v10zm4 0h-2v-4h2v4z\"/>\n",
              "    </g>\n",
              "</svg>\n",
              "      </button>\n",
              "    </div>\n",
              "\n",
              "<style>\n",
              "  .colab-df-quickchart {\n",
              "    background-color: #E8F0FE;\n",
              "    border: none;\n",
              "    border-radius: 50%;\n",
              "    cursor: pointer;\n",
              "    display: none;\n",
              "    fill: #1967D2;\n",
              "    height: 32px;\n",
              "    padding: 0 0 0 0;\n",
              "    width: 32px;\n",
              "  }\n",
              "\n",
              "  .colab-df-quickchart:hover {\n",
              "    background-color: #E2EBFA;\n",
              "    box-shadow: 0px 1px 2px rgba(60, 64, 67, 0.3), 0px 1px 3px 1px rgba(60, 64, 67, 0.15);\n",
              "    fill: #174EA6;\n",
              "  }\n",
              "\n",
              "  [theme=dark] .colab-df-quickchart {\n",
              "    background-color: #3B4455;\n",
              "    fill: #D2E3FC;\n",
              "  }\n",
              "\n",
              "  [theme=dark] .colab-df-quickchart:hover {\n",
              "    background-color: #434B5C;\n",
              "    box-shadow: 0px 1px 3px 1px rgba(0, 0, 0, 0.15);\n",
              "    filter: drop-shadow(0px 1px 2px rgba(0, 0, 0, 0.3));\n",
              "    fill: #FFFFFF;\n",
              "  }\n",
              "</style>\n",
              "\n",
              "    <script>\n",
              "      async function quickchart(key) {\n",
              "        const containerElement = document.querySelector('#' + key);\n",
              "        const charts = await google.colab.kernel.invokeFunction(\n",
              "            'suggestCharts', [key], {});\n",
              "      }\n",
              "    </script>\n",
              "\n",
              "      <script>\n",
              "\n",
              "function displayQuickchartButton(domScope) {\n",
              "  let quickchartButtonEl =\n",
              "    domScope.querySelector('#df-f87df2de-59eb-4ac4-a41e-8e5fa960444f button.colab-df-quickchart');\n",
              "  quickchartButtonEl.style.display =\n",
              "    google.colab.kernel.accessAllowed ? 'block' : 'none';\n",
              "}\n",
              "\n",
              "        displayQuickchartButton(document);\n",
              "      </script>\n",
              "      <style>\n",
              "    .colab-df-container {\n",
              "      display:flex;\n",
              "      flex-wrap:wrap;\n",
              "      gap: 12px;\n",
              "    }\n",
              "\n",
              "    .colab-df-convert {\n",
              "      background-color: #E8F0FE;\n",
              "      border: none;\n",
              "      border-radius: 50%;\n",
              "      cursor: pointer;\n",
              "      display: none;\n",
              "      fill: #1967D2;\n",
              "      height: 32px;\n",
              "      padding: 0 0 0 0;\n",
              "      width: 32px;\n",
              "    }\n",
              "\n",
              "    .colab-df-convert:hover {\n",
              "      background-color: #E2EBFA;\n",
              "      box-shadow: 0px 1px 2px rgba(60, 64, 67, 0.3), 0px 1px 3px 1px rgba(60, 64, 67, 0.15);\n",
              "      fill: #174EA6;\n",
              "    }\n",
              "\n",
              "    [theme=dark] .colab-df-convert {\n",
              "      background-color: #3B4455;\n",
              "      fill: #D2E3FC;\n",
              "    }\n",
              "\n",
              "    [theme=dark] .colab-df-convert:hover {\n",
              "      background-color: #434B5C;\n",
              "      box-shadow: 0px 1px 3px 1px rgba(0, 0, 0, 0.15);\n",
              "      filter: drop-shadow(0px 1px 2px rgba(0, 0, 0, 0.3));\n",
              "      fill: #FFFFFF;\n",
              "    }\n",
              "  </style>\n",
              "\n",
              "      <script>\n",
              "        const buttonEl =\n",
              "          document.querySelector('#df-87c46859-c55b-4d92-8e36-2d68699b0605 button.colab-df-convert');\n",
              "        buttonEl.style.display =\n",
              "          google.colab.kernel.accessAllowed ? 'block' : 'none';\n",
              "\n",
              "        async function convertToInteractive(key) {\n",
              "          const element = document.querySelector('#df-87c46859-c55b-4d92-8e36-2d68699b0605');\n",
              "          const dataTable =\n",
              "            await google.colab.kernel.invokeFunction('convertToInteractive',\n",
              "                                                     [key], {});\n",
              "          if (!dataTable) return;\n",
              "\n",
              "          const docLinkHtml = 'Like what you see? Visit the ' +\n",
              "            '<a target=\"_blank\" href=https://colab.research.google.com/notebooks/data_table.ipynb>data table notebook</a>'\n",
              "            + ' to learn more about interactive tables.';\n",
              "          element.innerHTML = '';\n",
              "          dataTable['output_type'] = 'display_data';\n",
              "          await google.colab.output.renderOutput(dataTable, element);\n",
              "          const docLink = document.createElement('div');\n",
              "          docLink.innerHTML = docLinkHtml;\n",
              "          element.appendChild(docLink);\n",
              "        }\n",
              "      </script>\n",
              "    </div>\n",
              "  </div>\n"
            ]
          },
          "metadata": {},
          "execution_count": 24
        }
      ],
      "source": [
        "matdis.head()"
      ]
    },
    {
      "cell_type": "code",
      "source": [],
      "metadata": {
        "id": "ADp_YeiusO9N"
      },
      "id": "ADp_YeiusO9N",
      "execution_count": null,
      "outputs": []
    },
    {
      "cell_type": "code",
      "execution_count": 25,
      "id": "d5e10e44",
      "metadata": {
        "id": "d5e10e44"
      },
      "outputs": [],
      "source": [
        "grafo = nx.Graph()"
      ]
    },
    {
      "cell_type": "code",
      "source": [
        "matdist.index()"
      ],
      "metadata": {
        "colab": {
          "base_uri": "https://localhost:8080/",
          "height": 165
        },
        "id": "6J2Td2HGsSfR",
        "outputId": "195718db-ff75-4a17-a049-22b7d65e3b98"
      },
      "id": "6J2Td2HGsSfR",
      "execution_count": 26,
      "outputs": [
        {
          "output_type": "error",
          "ename": "NameError",
          "evalue": "ignored",
          "traceback": [
            "\u001b[0;31m---------------------------------------------------------------------------\u001b[0m",
            "\u001b[0;31mNameError\u001b[0m                                 Traceback (most recent call last)",
            "\u001b[0;32m<ipython-input-26-d2142088c5c9>\u001b[0m in \u001b[0;36m<cell line: 1>\u001b[0;34m()\u001b[0m\n\u001b[0;32m----> 1\u001b[0;31m \u001b[0mmatdist\u001b[0m\u001b[0;34m.\u001b[0m\u001b[0mindex\u001b[0m\u001b[0;34m(\u001b[0m\u001b[0;34m)\u001b[0m\u001b[0;34m\u001b[0m\u001b[0;34m\u001b[0m\u001b[0m\n\u001b[0m",
            "\u001b[0;31mNameError\u001b[0m: name 'matdist' is not defined"
          ]
        }
      ]
    },
    {
      "cell_type": "code",
      "execution_count": 5,
      "id": "afa1b95d",
      "metadata": {
        "id": "afa1b95d"
      },
      "outputs": [],
      "source": [
        "filas, col = dist.shape"
      ]
    },
    {
      "cell_type": "code",
      "source": [
        "filas"
      ],
      "metadata": {
        "colab": {
          "base_uri": "https://localhost:8080/"
        },
        "id": "UgGSAhtpkoo-",
        "outputId": "e8d34c00-984d-46f7-bf44-b838cb382b0e"
      },
      "id": "UgGSAhtpkoo-",
      "execution_count": 6,
      "outputs": [
        {
          "output_type": "execute_result",
          "data": {
            "text/plain": [
              "14"
            ]
          },
          "metadata": {},
          "execution_count": 6
        }
      ]
    },
    {
      "cell_type": "code",
      "source": [
        "col"
      ],
      "metadata": {
        "colab": {
          "base_uri": "https://localhost:8080/"
        },
        "id": "WRJasrjOkqoQ",
        "outputId": "cafda173-be9e-4873-a3b2-25464ab60e8e"
      },
      "id": "WRJasrjOkqoQ",
      "execution_count": 8,
      "outputs": [
        {
          "output_type": "execute_result",
          "data": {
            "text/plain": [
              "3"
            ]
          },
          "metadata": {},
          "execution_count": 8
        }
      ]
    },
    {
      "cell_type": "code",
      "execution_count": 9,
      "id": "d3ae7e05",
      "metadata": {
        "id": "d3ae7e05"
      },
      "outputs": [],
      "source": [
        "for fila in range(filas):\n",
        "    grafo.add_edge(dist['source'][fila], dist['destination'][fila], weight= dist['distance'][fila])"
      ]
    },
    {
      "cell_type": "code",
      "execution_count": 12,
      "id": "80d061f0",
      "metadata": {
        "colab": {
          "base_uri": "https://localhost:8080/",
          "height": 406
        },
        "id": "80d061f0",
        "outputId": "711d342c-6aba-4ff5-9f6e-749cc02ffc6b"
      },
      "outputs": [
        {
          "output_type": "display_data",
          "data": {
            "text/plain": [
              "<Figure size 640x480 with 1 Axes>"
            ],
            "image/png": "[encoded data removed]"
          },
          "metadata": {}
        }
      ],
      "source": [
        "nx.draw_networkx(grafo, with_labels=True)"
      ]
    },
    {
      "cell_type": "code",
      "execution_count": 13,
      "id": "9d7c1d3d",
      "metadata": {
        "colab": {
          "base_uri": "https://localhost:8080/"
        },
        "id": "9d7c1d3d",
        "outputId": "23c799b9-1867-4460-853d-1659d18af56d"
      },
      "outputs": [
        {
          "output_type": "stream",
          "name": "stdout",
          "text": [
            "['Nashville', 'Denver', 'Phoenix', 'Los Angeles', 'San Francisco']\n",
            "2749\n"
          ]
        }
      ],
      "source": [
        "inicio = 'Nashville'\n",
        "fin = 'San Francisco'\n",
        "print(nx.shortest_path(grafo,inicio, fin, weight='weight'))\n",
        "print(nx.shortest_path_length(grafo,inicio,fin,weight='weight'))"
      ]
    },
    {
      "cell_type": "code",
      "execution_count": 14,
      "id": "436ac077",
      "metadata": {
        "colab": {
          "base_uri": "https://localhost:8080/"
        },
        "id": "436ac077",
        "outputId": "a5b3b6d3-e6fd-4896-c8f1-73f6e60fbbc7"
      },
      "outputs": [
        {
          "output_type": "execute_result",
          "data": {
            "text/plain": [
              "EdgeView([('Chapel Hill', 'Nashville'), ('Chapel Hill', 'Chicago'), ('Chapel Hill', 'Dallas'), ('Nashville', 'Denver'), ('Chicago', 'Denver'), ('Chicago', 'Las Vegas'), ('Chicago', 'San Francisco'), ('Dallas', 'Phoenix'), ('Dallas', 'Denver'), ('Las Vegas', 'San Francisco'), ('Las Vegas', 'Phoenix'), ('San Francisco', 'Los Angeles'), ('Phoenix', 'Los Angeles'), ('Phoenix', 'Denver')])"
            ]
          },
          "metadata": {},
          "execution_count": 14
        }
      ],
      "source": [
        "grafo.edges"
      ]
    },
    {
      "cell_type": "code",
      "execution_count": 15,
      "id": "9b159b38",
      "metadata": {
        "colab": {
          "base_uri": "https://localhost:8080/"
        },
        "id": "9b159b38",
        "outputId": "da123acc-12b7-42b1-d6b3-4b9b03593958"
      },
      "outputs": [
        {
          "output_type": "execute_result",
          "data": {
            "text/plain": [
              "NodeView(('Chapel Hill', 'Nashville', 'Chicago', 'Dallas', 'Las Vegas', 'San Francisco', 'Phoenix', 'Denver', 'Los Angeles'))"
            ]
          },
          "metadata": {},
          "execution_count": 15
        }
      ],
      "source": [
        "grafo.nodes"
      ]
    },
    {
      "cell_type": "code",
      "source": [
        "labels = nx.get_edge_attributes(grafo,'weight')\n",
        "pos = nx.spring_layout(grafo)\n",
        "nx.draw_networkx(grafo,pos, with_labels=True)\n",
        "nx.draw_networkx_edge_labels(grafo,pos,edge_labels=labels,label_pos=0.5)\n",
        "#con este codigo se puede graficar con la info de los pesos en los arcos"
      ],
      "metadata": {
        "colab": {
          "base_uri": "https://localhost:8080/",
          "height": 875
        },
        "id": "C5RcFmRNpSmQ",
        "outputId": "2568847b-089c-4e95-a3c3-44f59a5e7a9e"
      },
      "id": "C5RcFmRNpSmQ",
      "execution_count": 16,
      "outputs": [
        {
          "output_type": "execute_result",
          "data": {
            "text/plain": [
              "{('Chapel Hill',\n",
              "  'Nashville'): Text(-0.6940545406780808, -0.335839498983728, '513'),\n",
              " ('Chapel Hill',\n",
              "  'Chicago'): Text(-0.051084150513831555, -0.1681179663864234, '784'),\n",
              " ('Chapel Hill',\n",
              "  'Dallas'): Text(-0.28561189400108605, -0.5296047993555686, '1160'),\n",
              " ('Nashville',\n",
              "  'Denver'): Text(-0.681082814779851, -0.16268542501304942, '1168'),\n",
              " ('Chicago',\n",
              "  'Denver'): Text(-0.038112424615601714, 0.005036107584255205, '1017'),\n",
              " ('Chicago',\n",
              "  'Las Vegas'): Text(0.5396349629629691, 0.06157185236294327, '1761'),\n",
              " ('Chicago',\n",
              "  'San Francisco'): Text(0.4523735489072517, 0.29731433379973704, '2207'),\n",
              " ('Dallas',\n",
              "  'Phoenix'): Text(-0.05989320424692257, -0.3750089649558169, '1065'),\n",
              " ('Dallas', 'Denver'): Text(-0.27264016810285624, -0.35645072538489, '792'),\n",
              " ('Las Vegas',\n",
              "  'San Francisco'): Text(0.7060677315417223, 0.268440762402952, '574'),\n",
              " ('Las Vegas',\n",
              "  'Phoenix'): Text(0.42832872187480253, -0.04239570338345676, '302'),\n",
              " ('San Francisco',\n",
              "  'Los Angeles'): Text(0.39539559674188035, 0.6894632158722103, '387'),\n",
              " ('Phoenix',\n",
              "  'Los Angeles'): Text(0.1176565870749606, 0.3786267500858015, '373'),\n",
              " ('Phoenix',\n",
              "  'Denver'): Text(-0.14941866570376833, -0.09893144816214483, '821')}"
            ]
          },
          "metadata": {},
          "execution_count": 16
        },
        {
          "output_type": "display_data",
          "data": {
            "text/plain": [
              "<Figure size 640x480 with 1 Axes>"
            ],
            "image/png": "[encoded data removed]"
          },
          "metadata": {}
        }
      ]
    }
  ],
  "metadata": {
    "kernelspec": {
      "display_name": "Python 3 (ipykernel)",
      "language": "python",
      "name": "python3"
    },
    "language_info": {
      "codemirror_mode": {
        "name": "ipython",
        "version": 3
      },
      "file_extension": ".py",
      "mimetype": "text/x-python",
      "name": "python",
      "nbconvert_exporter": "python",
      "pygments_lexer": "ipython3",
      "version": "3.10.9"
    },
    "colab": {
      "provenance": [],
      "include_colab_link": true
    }
  },
  "nbformat": 4,
  "nbformat_minor": 5
}